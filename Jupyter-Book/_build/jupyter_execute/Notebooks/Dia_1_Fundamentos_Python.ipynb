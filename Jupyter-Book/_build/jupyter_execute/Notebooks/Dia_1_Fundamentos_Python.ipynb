{
 "cells": [
  {
   "cell_type": "markdown",
   "metadata": {},
   "source": [
    "## Día 1: Introducción a Proyectos en Python en Humanidades Digitales\n",
    "\n",
    "El auge de los métodos cuantitativos en disciplinas como la arqueología, literatura, historia, lingüística y filosofía ha marcado un cambio significativo en la investigación humanística. Este cambio se ha visto impulsado por la disponibilidad de recursos computacionales económicos y la digitalización masiva de bibliotecas y archivos, lo que permite analizar grandes volúmenes de documentos y datos.\n",
    "\n",
    "No obstante, los currículos universitarios en humanidades aún enfrentan el desafío de integrar la investigación cuantitativa de manera efectiva.\n",
    "\n",
    "\"Proyectos en Python en Humanidades Digitales\" tiene como objetivo ofrecer una guía práctica centrada en el uso de Python para el análisis cuantitativo de datos en el ámbito de las humanidades. Este lenguaje de programación, muy difundido en el ámbito académico, se presenta no solo como una herramienta para aprender a programar, sino también como un medio para aplicar métodos cuantitativos en contextos humanísticos. \n",
    "\n",
    "#### Que debes saber antes de empezar\n",
    "\n",
    "Este recurso no esta dirigido a programar en python desde cero, sino que se asume que el lector tiene conocimientos básicos de programación en python. Si no es tu caso, te recomendamos que revises los recursos del curso de Fundamentos de Python para Humanidades Digitales. \n",
    "\n",
    "Las siguientes celdas de código servirán para refrescar algunos conceptos básicos de python. Al mismo tiempo, te permitirán evaluar si tienes los conocimientos necesarios para seguir este curso."
   ]
  },
  {
   "cell_type": "markdown",
   "metadata": {},
   "source": [
    "## 1. Refrescando conceptos básicos de Python\n",
    "### Variables\n",
    "\n",
    "Primero que todo, debes recordar como son definidas las variables y como usar el operador de asignación `=` para asignar un valor a una variable."
   ]
  },
  {
   "cell_type": "code",
   "execution_count": null,
   "metadata": {},
   "outputs": [],
   "source": [
    "# Este es un comentario\n",
    "\n",
    "var = 2024 # Esta es una variable con un valor entero"
   ]
  },
  {
   "cell_type": "markdown",
   "metadata": {},
   "source": [
    "Números como `1`, `-50`, `2024` son conocidos como enteros y son del tipo `int`. Números con una parte decimal como `1.8`, `-50.2`, `2024.0` son conocidos como números de punto flotante y son del tipo `float`. Cadenas de texto como `\"Hola\"`, `\"Esto es una cadena de texto\"`, `\"2024\"` son conocidas como cadenas de texto y son del tipo `str`.\n",
    "\n",
    "Por ejemplo la siguiente celda de código asigna el valor `1` a la variable `a`, el valor `-50.2` a la variable `b` y el valor `\"Hola\"` a la variable `c`."
   ]
  },
  {
   "cell_type": "code",
   "execution_count": 2,
   "metadata": {},
   "outputs": [
    {
     "name": "stdout",
     "output_type": "stream",
     "text": [
      "<class 'int'>\n",
      "<class 'float'>\n",
      "<class 'str'>\n"
     ]
    }
   ],
   "source": [
    "a = 1\n",
    "b = -50.2\n",
    "c = \"Hola\"\n",
    "\n",
    "print(type(a))\n",
    "print(type(b))\n",
    "print(type(c))"
   ]
  },
  {
   "cell_type": "markdown",
   "metadata": {},
   "source": [
    "### Indización de secuencias\n",
    "\n",
    "Las cadenas de texto, por lo general, son secuencias de caracteres. Esto significa que cada caracter de una cadena de texto puede ser accedido por medio de un índice. En python, los índices empiezan en `0`. Por ejemplo, el caracter en la posición `0` de la cadena `\"Hola\"` es `\"H\"`, el caracter en la posición `1` es `\"o\"`."
   ]
  },
  {
   "cell_type": "code",
   "execution_count": 3,
   "metadata": {},
   "outputs": [
    {
     "name": "stdout",
     "output_type": "stream",
     "text": [
      "Hola\n",
      "H\n",
      "o\n"
     ]
    }
   ],
   "source": [
    "print(c)\n",
    "print(c[0])\n",
    "print(c[1])"
   ]
  },
  {
   "cell_type": "markdown",
   "metadata": {},
   "source": [
    "### Listas\n",
    "\n",
    "Las listas son secuencias de elementos. Cada elemento de una lista puede ser accedido por medio de un índice. En python, los índices empiezan en `0`. Por ejemplo, el elemento en la posición `0` de la lista `[\"Hola\", \"Mundo\"]` es `\"Hola\"`, el elemento en la posición `1` es `\"Mundo\"`. A diferencia de las cadenas de texto, los elementos de una lista pueden ser de cualquier tipo."
   ]
  },
  {
   "cell_type": "code",
   "execution_count": 4,
   "metadata": {},
   "outputs": [],
   "source": [
    "numeros_primos = [2, 3, 5, 7, 11, 13, 17, 19]\n",
    "words = [\"Estoy\", \"recordando\", \"Python.\",\"Hola\", \"Mundo\"]"
   ]
  },
  {
   "cell_type": "markdown",
   "metadata": {},
   "source": [
    "De igual manera podemos acceder a los elementos de una lista por medio de sus índices. De hecho, podemos usar tanto índices positivos como negativos. Por ejemplo, el elemento en la posición `-1` de la lista `[2, 3, 5, 7, 11, 13, 17, 19]` es `19`, el elemento en la posición `-2` es `17`.\n",
    "\n",
    "Adicionalmente, podemos acceder a un subconjunto de elementos de una lista por medio de la sintaxis `lista[inicio:fin]`. Por ejemplo, la expresión `[\"Estoy\", \"recordando\", \"Python.\",\"Hola\", \"Mundo\"][0:2]` retorna la lista `[\"Estoy\", \"recordando\"]`."
   ]
  },
  {
   "cell_type": "code",
   "execution_count": null,
   "metadata": {},
   "outputs": [],
   "source": [
    "print(numeros_primos[0])\n",
    "print(numeros_primos[-1]) # usamos -1 para acceder al ultimo elemento de la lista\n",
    "print(words[2:5]) # esto es conocido como slicing"
   ]
  },
  {
   "cell_type": "markdown",
   "metadata": {},
   "source": [
    "### Condicionales if-else\n",
    "\n",
    "Los condicionales if-else nos permiten ejecutar un bloque de código si se cumple una condición. Para ello, python provee los statement `if`, `elif` y `else`. Por ejemplo, la siguiente celda de código imprime `\"Hola\"` si el valor de la variable `a` es igual a `1`, imprime `\"Mundo\"` si el valor de la variable `a` es igual a `2` y imprime `\"Adiós\"` en cualquier otro caso."
   ]
  },
  {
   "cell_type": "code",
   "execution_count": null,
   "metadata": {},
   "outputs": [],
   "source": [
    "a = int(input(\"Ingrese un numero: \"))\n",
    "\n",
    "if a == 1:\n",
    "    print(\"Hola\")\n",
    "elif a == 2:\n",
    "    print(\"Mundo\")\n",
    "else:\n",
    "    print(\"Adiós\")"
   ]
  },
  {
   "cell_type": "markdown",
   "metadata": {},
   "source": [
    "### Bucles usando for\n",
    "\n",
    "Los bucles usando for nos permiten ejecutar un bloque de código varias veces. Para ello, python provee el statement `for`. Con bucles podemos iterar sobre los elementos de una secuencia (por ejemplo, una cadena de texto o una lista). O sobre los elementos de un rango de números usando la función `range`."
   ]
  },
  {
   "cell_type": "code",
   "execution_count": null,
   "metadata": {},
   "outputs": [],
   "source": [
    "mi_cadena = \"Recordando Python ando\"\n",
    "mi_lista = mi_cadena.split()\n",
    "print(mi_lista)"
   ]
  },
  {
   "cell_type": "code",
   "execution_count": null,
   "metadata": {},
   "outputs": [],
   "source": [
    "for item in mi_lista:\n",
    "    print(item)\n",
    "\n",
    "for letra in mi_cadena:\n",
    "    print(letra)\n",
    "\n",
    "final = len(mi_lista)\n",
    "for i in range(0, final):\n",
    "    print(mi_lista[i])\n",
    "\n",
    "final = len(mi_cadena)\n",
    "for i in range(0, final):\n",
    "    print(mi_cadena[i])"
   ]
  },
  {
   "cell_type": "markdown",
   "metadata": {},
   "source": [
    "### Leyendo y escribiendo archivos\n",
    "\n",
    "Python provee la función `open` para leer y escribir archivos. Esta función recibe como parámetro el nombre del archivo y retorna un objeto que representa el archivo. Para leer el contenido de un archivo, podemos usar el método `read` del objeto que representa el archivo. Para escribir en un archivo, podemos usar el método `write` del objeto que representa el archivo. Dependiendo del modo en que se abra el archivo, este puede ser 'x' (crear), 'r' (lectura), 'w' (escritura) o 'a' (agregar).\n",
    "\n",
    "Usamos el comando 'with' para asegurarnos que el archivo sea abierto y cerrado correctamente. Por ejemplo, la siguiente celda de código crea un archivo llamado `mi_texto.txt`"
   ]
  },
  {
   "cell_type": "code",
   "execution_count": 35,
   "metadata": {},
   "outputs": [],
   "source": [
    "with open(\"mi_texto.txt\",\"w\") as archivo:\n",
    "    archivo.write(\"THE WOLF, THE DOG AND THE COLLAR\\n\\nA comfortably plump dog happened to run into a wolf. The wolf asked the dog where he had \\nbeen finding enough food to get so big and fat. 'It is a man,' said the dog, 'who gives me \\nall this food to eat.' The wolf then asked him, 'And what about that bare spot there on \\nyour neck?' The dog replied, 'My skin has been rubbed bare by the iron collar which my \\nmaster forged and placed upon my neck.' The wolf then jeered at the dog and said, 'Keep \\nyour luxury to yourself then! I don't want anything to do with it, if my neck will have to \\nchafe against a chain of iron!'\")"
   ]
  },
  {
   "cell_type": "markdown",
   "metadata": {},
   "source": [
    "Y de igual manera, la siguiente celda de código lee el contenido del archivo `mi_texto.txt`"
   ]
  },
  {
   "cell_type": "code",
   "execution_count": 36,
   "metadata": {},
   "outputs": [
    {
     "name": "stdout",
     "output_type": "stream",
     "text": [
      "THE WOLF, THE DOG AND THE COLLAR\n",
      "\n",
      "A comfortably plump dog happened to run into a wolf. The wolf asked the dog where he had \n",
      "been finding enough food to get so big and fat. 'It is a man,' said the dog, 'who gives me \n",
      "all this food to eat.' The wolf then asked him, 'And what about that bare spot there on \n",
      "your neck?' The dog replied, 'My skin has been rubbed bare by the iron collar which my \n",
      "master forged and placed upon my neck.' The wolf then jeered at the dog and said, 'Keep \n",
      "your luxury to yourself then! I don't want anything to do with it, if my neck will have to \n",
      "chafe against a chain of iron!'\n"
     ]
    }
   ],
   "source": [
    "with open(\"mi_texto.txt\",\"r\") as archivo:\n",
    "    print(archivo.read())"
   ]
  },
  {
   "cell_type": "code",
   "execution_count": 37,
   "metadata": {},
   "outputs": [],
   "source": [
    "with open(\"mi_texto.txt\", \"a\") as archivo:\n",
    "    archivo.write(\"\\n\\n\")\n",
    "    archivo.write(\"#\"*50)\n",
    "    archivo.write(\"\\n\\nHola mundo\")"
   ]
  },
  {
   "cell_type": "code",
   "execution_count": 38,
   "metadata": {},
   "outputs": [
    {
     "name": "stdout",
     "output_type": "stream",
     "text": [
      "THE WOLF, THE DOG AND THE COLLAR\n",
      "\n",
      "A comfortably plump dog happened to run into a wolf. The wolf asked the dog where he had \n",
      "been finding enough food to get so big and fat. 'It is a man,' said the dog, 'who gives me \n",
      "all this food to eat.' The wolf then asked him, 'And what about that bare spot there on \n",
      "your neck?' The dog replied, 'My skin has been rubbed bare by the iron collar which my \n",
      "master forged and placed upon my neck.' The wolf then jeered at the dog and said, 'Keep \n",
      "your luxury to yourself then! I don't want anything to do with it, if my neck will have to \n",
      "chafe against a chain of iron!'\n",
      "\n",
      "##################################################\n",
      "\n",
      "Hola mundo\n"
     ]
    }
   ],
   "source": [
    "with open(\"mi_texto.txt\", \"r\") as archivo:\n",
    "    print(archivo.read())"
   ]
  },
  {
   "cell_type": "markdown",
   "metadata": {},
   "source": [
    "## Ejercicios\n",
    "\n",
    "### Ejercicio 1\n",
    "\n",
    "Escribe un programa que lea el archivo `mi_texto.txt` y cuente el número de palabras que contiene. Para ello, puedes usar el método `split` de las cadenas de texto."
   ]
  },
  {
   "cell_type": "code",
   "execution_count": null,
   "metadata": {},
   "outputs": [],
   "source": [
    "# Tu código va aquí"
   ]
  },
  {
   "cell_type": "markdown",
   "metadata": {},
   "source": [
    "### Ejercicio 2\n",
    "\n",
    "Determinar si un número entero positivo es capicúa (palíndromo), es decir, aquel número que se lee igual de izquierda a derecha y de derecha a izquierda. Por ejemplo, 34543, 202, 8888, son capicúas. \n",
    "\n",
    "Solicitar al usuario un número entero positivo y determinar si es capicúa o no. Validar que el número ingresado sea positivo.\n",
    "\n",
    "<details>\n",
    "<summary> Ver solución </summary>\n",
    "\n",
    "```python\n",
    "num = int(input(\"Ingrese un número positivo: \"))\n",
    "\n",
    "if num < 0:\n",
    "    print(\"El número no es positivo\")\n",
    "else:\n",
    "    str_num = str(num)\n",
    "    if str_num == str_num[::-1]:\n",
    "        print(\"El número es palíndromo\")\n",
    "    else:\n",
    "        print(\"El número no es palíndromo\")\n",
    "```"
   ]
  },
  {
   "cell_type": "code",
   "execution_count": null,
   "metadata": {},
   "outputs": [],
   "source": [
    "# Tu código va aquí"
   ]
  },
  {
   "cell_type": "markdown",
   "metadata": {},
   "source": [
    "### Ejercicio 3\n",
    "\n",
    "Imprimir en forma tabular:\n",
    "a) Las letras mayúsculas del alfabeto y su código ASCII\n",
    "b) Las letras minúsculas del alfabeto y su código ASCII\n",
    "c) Los dígitos y sus códigos ASCII\n",
    "\n",
    "*Hint:* Puedes usar la función `ord` para obtener el código ASCII de un caracter y la función `chr` para obtener el caracter a partir de su código ASCII.\n",
    "\n",
    "<details>\n",
    "<summary> Ver solución </summary>\n",
    "\n",
    "```python\n",
    "print(\"Letras mayúsculas\")\n",
    "for i in range(ord('A'), ord('Z') + 1):\n",
    "    print(chr(i), i)\n",
    "\n",
    "print(\"Letras minúsculas\")\n",
    "for i in range(ord('a'), ord('z') + 1):\n",
    "    print(chr(i), i)\n",
    "\n",
    "print(\"Dígitos\")\n",
    "for i in range(ord('0'), ord('9') + 1):\n",
    "    print(chr(i), i)\n",
    "```"
   ]
  },
  {
   "cell_type": "code",
   "execution_count": null,
   "metadata": {},
   "outputs": [],
   "source": []
  },
  {
   "cell_type": "markdown",
   "metadata": {},
   "source": [
    "## 2. Introducción a los Paquetes de Python\n",
    "\n",
    "Python provee un rango inmenso de funcionalidades adicionales a las que vienen por defecto. Estas funcionalidades adicionales son conocidas como paquetes. Los paquetes son colecciones de módulos que pueden ser importados en un programa de python. Para poder usar un paquete, hacemos uso del comando `import`. Por ejemplo, la siguiente celda de código importa el paquete `math` y usa la función `sqrt` para calcular la raíz cuadrada de `2`."
   ]
  },
  {
   "cell_type": "code",
   "execution_count": 1,
   "metadata": {},
   "outputs": [
    {
     "name": "stdout",
     "output_type": "stream",
     "text": [
      "1.4142135623730951\n"
     ]
    }
   ],
   "source": [
    "import math\n",
    "\n",
    "print(math.sqrt(2))"
   ]
  },
  {
   "cell_type": "markdown",
   "metadata": {},
   "source": [
    "El paquete `math` es un paquete que provee una variedad de funciones matemáticas. \n",
    "\n",
    "Existe una relación de paquetes que son considerados como los paquetes estándar de python. Estos paquetes son mantenidos por la Python Software Foundation y vienen incluidos en la instalación de python. Algunos de estos paquetes son: \n",
    "\n",
    "| Paquete     | Descripción                                                                                           |\n",
    "|-------------|-------------------------------------------------------------------------------------------------------|\n",
    "| math        | Provee funciones matemáticas básicas como raíz cuadrada, logaritmos, funciones trigonométricas, etc. |\n",
    "| random      | Genera números aleatorios y realiza operaciones relacionadas con la aleatoriedad.                     |\n",
    "| datetime    | Manipula fechas y horas.                  |\n",
    "| os          | Proporciona funciones para interactuar con el sistema operativo, como acceder a archivos y directorios. |\n",
    "| sys         | Proporciona información y funciones relacionadas con el sistema.                                      |\n",
    "| json        | Codifica y decodifica datos en formato JSON.                                                          |\n",
    "| csv         | Lee y escribe archivos CSV (valores separados por comas).                                             |\n",
    "| re          | Proporciona operaciones de expresiones regulares.                                                     |   \n",
    "| numpy       | Proporciona estructuras de datos y funciones para realizar cálculos numéricos eficientes.             |\n"
   ]
  },
  {
   "cell_type": "markdown",
   "metadata": {},
   "source": [
    "Sin embargo, existen muchos otros paquetes que no vienen incluidos en la instalación de python. Estos paquetes pueden ser instalados usando el gestor de paquetes `pip`.\n",
    "\n",
    "En el caso de colab, podemos ejecutar comandos de terminal usando el símbolo `!`. Por ejemplo, la siguiente celda de código instala el paquete `pandas` usando el comando `pip install pandas`."
   ]
  },
  {
   "cell_type": "code",
   "execution_count": null,
   "metadata": {},
   "outputs": [],
   "source": [
    "!pip install pandas"
   ]
  },
  {
   "cell_type": "markdown",
   "metadata": {},
   "source": [
    "Existe una amplia variedad de paquetes, muchos de ellos mantenidos por la gran comunidad de python. Muchos de ellos tienen funcionalidades similares, por lo que es importante conocer las características de cada uno de ellos para poder elegir el más adecuado para cada caso. Por lo general los paquetes tienen una documentación muy completa que puede ser consultada en sus respectivas páginas web."
   ]
  },
  {
   "cell_type": "markdown",
   "metadata": {},
   "source": [
    "## 3. Definiendo funciones\n",
    "\n",
    "Adicionalmente a los funciones que vienen por defecto en python, podemos definir nuestras propias funciones. Para ello, usamos el comando `def`. \n",
    "\n",
    "Por otro lado, las funciones pueden recibir parámetros. Lo que quiere decir que podemos pasarle valores a una función a través de una variable y usar estos valores dentro de la función. Por ejemplo, la siguiente función toma un número y retorna el cuadrado de ese número.\n",
    "\n",
    "```python\t\n",
    "def cuadrado(x):\n",
    "    potencia = x * x\n",
    "    return potencia\n",
    "```\n",
    "Asimismo, las funciones pueden retornar valores. la cual obtendremos al llamar la función.\n",
    "\n",
    "Por ejemplo, la siguiente función toma una cadena de texto y retorna el número de palabras que terminan en `\"o\"`."
   ]
  },
  {
   "cell_type": "code",
   "execution_count": 4,
   "metadata": {},
   "outputs": [
    {
     "name": "stdout",
     "output_type": "stream",
     "text": [
      "Hola 1\n",
      "Mundo 1\n",
      "Python 1\n",
      "ando 1\n",
      "amiga 0\n",
      "estudiante 0\n",
      "oso 2\n",
      "casa 0\n",
      "perro 1\n",
      "gato 1\n"
     ]
    }
   ],
   "source": [
    "def count_o(text):\n",
    "    count = 0\n",
    "    for letter in text:\n",
    "        if letter == \"o\":\n",
    "            count += 1\n",
    "    return count\n",
    "\n",
    "words = [\"Hola\", \"Mundo\", \"Python\", \"ando\", \"amiga\", \"estudiante\", \"oso\", \"casa\", \"perro\", \"gato\"]\n",
    "\n",
    "for word in words:\n",
    "    conteo = count_o(word)\n",
    "    print(word,conteo)"
   ]
  },
  {
   "cell_type": "markdown",
   "metadata": {},
   "source": [
    "### Ejercicio 4\n",
    "\n",
    "Determinar si una cadena de texto es un palíndromo. Para ello se le solicita que defina una función que reciba como parámetro una cadena de texto y retorne `True` si la cadena es un palíndromo y `False` en caso contrario.\n",
    "\n",
    "Solicite al usuario una cadena de texto y determine si es un palíndromo o no.\n"
   ]
  },
  {
   "cell_type": "markdown",
   "metadata": {},
   "source": []
  }
 ],
 "metadata": {
  "kernelspec": {
   "display_name": "DL-env",
   "language": "python",
   "name": "python3"
  },
  "language_info": {
   "codemirror_mode": {
    "name": "ipython",
    "version": 3
   },
   "file_extension": ".py",
   "mimetype": "text/x-python",
   "name": "python",
   "nbconvert_exporter": "python",
   "pygments_lexer": "ipython3",
   "version": "3.9.12"
  }
 },
 "nbformat": 4,
 "nbformat_minor": 2
}