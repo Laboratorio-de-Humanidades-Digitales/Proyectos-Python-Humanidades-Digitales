{
 "cells": [
  {
   "cell_type": "markdown",
   "metadata": {
    "id": "xsm2C_7Offjs"
   },
   "source": [
    "# Clase 2: Trabajando con Datos en Python\n",
    "\n",
    "En este curso aprenderemos a cargar, procesar y guardar datos utilizando un lenguaje de programación de fácil comprensión: Python. Python es un lenguaje de programación de alto nivel, lo que significa que es más cercano al lenguaje humano que al lenguaje de las máquinas. Esto hace que sea más fácil de aprender que otros lenguajes de programación.\n",
    "\n",
    "Practicaremos Python utilizando Notebooks a través de Google Colab. Colab es un entorno de programación gratuito que se ejecuta en el navegador. No necesitas instalar nada en tu ordenador para usarlo.\n",
    "\n",
    "### Notebooks de Python\n",
    "\n",
    "Estos Notebooks contienen instrucciones y lo que se denomina 'bloques de código'. Las instrucciones son párrafos de texto que explican los conceptos que vamos a utilizar. Los 'bloques de código' contienen código Python.\n",
    "\n",
    "<figure>\n",
    "<center>\n",
    "<img width=300 src='https://drive.google.com/uc?id=1aOFxn6kOc4nDNIFmXMGRARZTGWOx1MEd' />\n",
    "</figure>\n",
    "\n",
    "\n",
    "Los Notebooks son bastante sencillos. Algunos consejos para empezar:\n",
    "\n",
    "* Las celdas de un notebook contienen código o texto. Si ejecutas una celda, se ejecutará el código o se renderizará el texto.\n",
    "* Hay cinco formas de ejecutar una celda:\n",
    "    1. Haz clic en el botón de 'Run' en la parte izquierda del bloque de código.\n",
    "    2. Alt + Enter ejecuta la celda actual y crea una nueva celda.\n",
    "    3. Ctrl + Enter ejecuta la celda actual sin crear una nueva celda. (Cmd + Enter en Mac.)\n",
    "\n",
    "\n",
    "**Consejo**: Manten ordenado tu Notebook. Si ejecutas las celdas de manera desordenada puede que obtengas resultados que no esperas.\n",
    "\n",
    "---\n",
    "\n",
    "\n",
    "#### Al final de este Notebook, serás capaz de:\n",
    "* Imprimir infomormación en la pantalla usando la función `print()`\n",
    "* asignar *valores* a *variables* usando nombres válidos y comprensibles\n",
    "* Hacer cálculos con Python\n",
    "* Usar comentarios para hacer que tu código sea más fácil de entender\n",
    "* Tener un entendimiento básico de los aspectos de la programación en Python"
   ]
  },
  {
   "cell_type": "markdown",
   "metadata": {
    "id": "cvkDzsfaffjv"
   },
   "source": [
    "## 1. Empecemos todos juntos\n",
    "### 1.1. Hola Universo\n",
    "\n",
    "La mejor manerae de aprender a programar es empezar a programar. Así que vamos a empezar con un programa muy sencillo. Ejecuta la siguiente celda de código:"
   ]
  },
  {
   "cell_type": "code",
   "execution_count": null,
   "metadata": {
    "id": "uhXdyjvuffjv",
    "outputId": "a285295f-d0b7-47bf-f096-cfec21d3d357"
   },
   "outputs": [
    {
     "name": "stdout",
     "output_type": "stream",
     "text": [
      "Hola Universo!\n"
     ]
    }
   ],
   "source": [
    "print(\"Hola Universo!\")"
   ]
  },
  {
   "cell_type": "markdown",
   "metadata": {
    "id": "X5DI5EZVffjx"
   },
   "source": [
    "Que esta ocurriendo aquí? Bueno, estamos usando la función `print()` para imprimir el texto 'Hola Universo' en la pantalla. Las funciones son bloques de código que realizan una tarea específica. En este caso, la función `print()` muestra el texto que le pasamos entre paréntesis en la pantalla.\n",
    "\n",
    "**Nota**: Una función es un bloque de código que realiza una tarea específica. Las funciones toman entradas (llamadas argumentos, una palabra 'elegante' para referise a los valores que pones dentro de una función) y devuelven salidas. En este caso, la función `print()` toma el texto 'Hola Universo' como entrada y devuelve el mismo texto como salida, que se muestra en la pantalla."
   ]
  },
  {
   "cell_type": "markdown",
   "metadata": {
    "id": "AU-nU3VLffjx"
   },
   "source": [
    "¿Cómo podemos modificar el código para que muestre en el texto tu nombre en lugar de 'Hola Universo'?"
   ]
  },
  {
   "cell_type": "code",
   "execution_count": null,
   "metadata": {
    "id": "Qwyq2Iajffjx"
   },
   "outputs": [],
   "source": [
    "# Imprimiendo nuestro nombre\n",
    "print(\"Hola, [Tu nombre]\")"
   ]
  },
  {
   "cell_type": "markdown",
   "metadata": {
    "id": "XLFOnQmcffjx"
   },
   "source": [
    "Viste que usamos el símbolo '#' para añadir un comentario al código? Los comentarios son líneas de texto que no se ejecutan como código, sino que se utilizan para hacer que el código sea más fácil de entender. Puedes añadir comentarios a tu código para recordar lo que hace, o para ayudar a otros a entenderlo."
   ]
  },
  {
   "cell_type": "markdown",
   "metadata": {
    "id": "wCNIreVSffjy"
   },
   "source": [
    "### 1.2. Operaciones matemáticas\n",
    "\n",
    "Además de imprimir texto, podemos usar Python como una calculadora. Por ejemplo, podemos usar Python para realizar operaciones matemáticas como la suma y la resta. Ejecuta la siguiente celda de código:"
   ]
  },
  {
   "cell_type": "code",
   "execution_count": null,
   "metadata": {
    "id": "YQrWE-dpffjy"
   },
   "outputs": [],
   "source": [
    "# Suma de dos números\n",
    "print(3 + 5)\n",
    "\n",
    "# Resta de dos números\n",
    "print(10 - 2)"
   ]
  },
  {
   "cell_type": "markdown",
   "metadata": {
    "id": "Ed9_vtgiffjy"
   },
   "source": [
    "Ejercicio 1: Calcula el resultado de la siguiente operación matemática: 4 + 6 - 2"
   ]
  },
  {
   "cell_type": "code",
   "execution_count": null,
   "metadata": {
    "id": "9dGqBX7Jffjz"
   },
   "outputs": [],
   "source": [
    "# Inserta aquí tu código"
   ]
  },
  {
   "cell_type": "markdown",
   "metadata": {
    "id": "CbSTB8S8ffjz"
   },
   "source": [
    "## 2. Variables"
   ]
  },
  {
   "cell_type": "markdown",
   "metadata": {
    "id": "8jk4SA2-ffjz"
   },
   "source": [
    "En vez de escribir el valor directamente en la función `print()`, podemos asignar el valor a una variable y luego usar la variable dentro de la función `print()`\n",
    "\n",
    "Cuando pasamos un valor a la función `print()`, obtenemos el mismo resultado que si pasamos una variable que contiene ese valor.\n"
   ]
  },
  {
   "cell_type": "code",
   "execution_count": null,
   "metadata": {
    "id": "qURASrmSffjz",
    "outputId": "95011246-bf5e-4990-ad8d-154f2999f293"
   },
   "outputs": [
    {
     "name": "stdout",
     "output_type": "stream",
     "text": [
      "Miau\n"
     ]
    }
   ],
   "source": [
    "gato = \"Miau\"\n",
    "print(gato)"
   ]
  },
  {
   "cell_type": "markdown",
   "metadata": {
    "id": "rbjxCJA9ffjz"
   },
   "source": [
    "\"Miau\" es un pedazo de texto, así que lo llamamos una cadena de texto o *string* en inglés. Los Strings en python siempre van entre comillas simples o dobles (\" o '). Sin esas comillas, Python pensaría que 'Miau' es una variable, por que los nombres de las variables no van entre comillas.\n",
    "\n",
    "Los lenguajes de programación pueden verse como **maneras 'formales' de decirle a tu computadora que tiene que hacer**. Por lo tanto, los lenguajes de programación hacen uso de reglas estrictas y bien definidas (conocidas como sintaxis). Más adelante veremos que Python conoce un conjunto de diferentes tipos de datos, es decir, diferentes tipos de valores que podemos usar (texto, números, etc.). Cada tipo de dato tiene su propia sintaxis por tanto Python debe saber cómo diferenciarlos.\n",
    "\n",
    "Quizás esto suene un poco confuso, pero la primera distinción a tomar en cuenta, que además es muy importante:\n",
    "\n",
    "* Los nombres de las variables no van entre comillas\n",
    "* Los valores que asignamos a las variables van entre comillas si son cadenas de texto\n",
    "\n",
    "Se ven muy similares, pero son muy diferentes, y tienen propósitos completamente diferentes.\n",
    "\n",
    "Veamos el siguiente ejemplo:"
   ]
  },
  {
   "cell_type": "code",
   "execution_count": null,
   "metadata": {
    "id": "yOhDz7Tfffjz",
    "outputId": "71c35043-9aa7-4a37-86fc-3e84edd0bfa8"
   },
   "outputs": [
    {
     "name": "stdout",
     "output_type": "stream",
     "text": [
      "nombre\n",
      "H-LAB\n"
     ]
    }
   ],
   "source": [
    "nombre = \"H-LAB\"\n",
    "print(\"nombre\") # Este es una cadena de texto con el valor \"nombre\"\n",
    "print(nombre) # Este es una variable con el valor \"H-LAB\""
   ]
  },
  {
   "cell_type": "markdown",
   "metadata": {
    "id": "9llPcj_Wffj0"
   },
   "source": [
    "Como observamos imprimir una cadena de texto \"nombre\" no es lo mismo que imprimir el valor de la variable nombre. En el primer caso, estamos imprimiendo el texto \"nombre\", mientras que en el segundo caso estamos imprimiendo el valor de la variable nombre, que es \"H-LAB\"."
   ]
  },
  {
   "cell_type": "markdown",
   "metadata": {
    "id": "3Z0g5LZoffj0"
   },
   "source": [
    "Y podemos asignar a nuestras variables valores numéricos también:"
   ]
  },
  {
   "cell_type": "code",
   "execution_count": null,
   "metadata": {
    "id": "XmhqtiIzffj0",
    "outputId": "f551d8cb-00a9-4d4c-97ca-968f819ceb9c"
   },
   "outputs": [
    {
     "name": "stdout",
     "output_type": "stream",
     "text": [
      "22\n"
     ]
    }
   ],
   "source": [
    "x = 22\n",
    "print(x)"
   ]
  },
  {
   "cell_type": "markdown",
   "metadata": {
    "id": "PQi1lesyffj0"
   },
   "source": [
    "## 2. Definción y uso de variables\n",
    "### 2.1. Asignando valores a variables\n",
    "\n",
    "Si recuerdas un poco de la matemática de la escuela, este símbolo se te hará un poco familiar `=`. En matemáticas, el símbolo `=` se utiliza para indicar que dos expresiones tienen el mismo valor. En programación no es tan diferente, pero lo llamamos `asingación`, donde usamos este mismo símbolo `=`, con el nombre de la variable a su izquierda y el valor que queremos asignar a la derecha.\n",
    "\n",
    "De esta manera estamos asignando un valor y nombrandolo usando el símbolo de asignación `=`, por tanto luego podemos usar luego fácilmente el nombre de la variable en lugar de tener que escribir el valor completo cada vez que lo necesitemos.\n",
    "\n",
    "Pensemos en las variables como cajas donde podemos guardar objetos. Cada caja tiene un nombre(variable) y un contenido(valor). En este caso nuestra variable `x` es una especie de etiqueta que le pusimos a la caja para identificarla. En esta caja ponemos lo que nosotros quisieramos, como algún número, en este caso el valor 22. Por tanto en Python, el término **variable** se refiere a la etiqueta que le ponemos a la caja, mientras que el término **valor** se refiere al contenido de la caja.\n",
    "\n",
    "<figure>\n",
    "<center>\n",
    "<img width=600 src='https://drive.google.com/uc?id=1FFB8tZVVXxX2koxAzq9sgm96qTwd21Xz' />\n",
    "</figure>\n",
    "\n",
    "\n",
    "\n",
    "Hay que tomar en cuenta que nosotros podemos cambiar el contenido de la caja, por tanto podríamos reutilizar los nombres de variables para guardar diferentes valores. Por ejemplo:\n"
   ]
  },
  {
   "cell_type": "code",
   "execution_count": null,
   "metadata": {
    "id": "iqpZXLiTffj0"
   },
   "outputs": [],
   "source": [
    "mensaje = \"Me gustan los perros\"\n",
    "print(mensaje)\n",
    "mensaje = \"Me gustan los gatos\"\n",
    "print(mensaje)"
   ]
  },
  {
   "cell_type": "markdown",
   "metadata": {
    "id": "8bK8DBYIffj0"
   },
   "source": [
    "#### Ejericio 2:\n",
    "\n",
    "Asigna el valor 10 a la variable `y` y luego imprime el valor de `y` en la pantalla. Luego reasigna el valor 20 a la variable `y` y vuelve a imprimir el valor de `y` en la pantalla."
   ]
  },
  {
   "cell_type": "code",
   "execution_count": null,
   "metadata": {
    "id": "vnr3k3bDffj0"
   },
   "outputs": [],
   "source": [
    "# Inserta aquí tu código"
   ]
  },
  {
   "cell_type": "markdown",
   "metadata": {
    "id": "Lbf27FMCffj0"
   },
   "source": [
    "Opcional: ¿Qué ocurre si intentas imprimir el valor de una variable que no ha sido definida? (es decir si imprimes w en lugar de y)"
   ]
  },
  {
   "cell_type": "code",
   "execution_count": null,
   "metadata": {
    "id": "USWXuRfOffj1"
   },
   "outputs": [],
   "source": [
    "# Inserta aquí tu código y comenta que ocurrió"
   ]
  },
  {
   "cell_type": "markdown",
   "metadata": {
    "id": "ABB4BFOHffj1"
   },
   "source": [
    "Cuando ya tenemos creada una variable, podemos reutilizarla en cualquier parte de nuestro código. Ejecuta la siguiente celda de código y mira que ocurre:"
   ]
  },
  {
   "cell_type": "code",
   "execution_count": null,
   "metadata": {
    "id": "MsPWTDkHffj1",
    "outputId": "5556116d-e99f-4b81-980b-b55013f73b84"
   },
   "outputs": [
    {
     "name": "stdout",
     "output_type": "stream",
     "text": [
      "12\n",
      "24\n",
      "144\n",
      "15\n",
      "4\n"
     ]
    }
   ],
   "source": [
    "x = 12\n",
    "print(x)\n",
    "print(x + x)\n",
    "print(x * x)\n",
    "print(x + 3)\n",
    "print(x - 8)"
   ]
  },
  {
   "cell_type": "markdown",
   "metadata": {
    "id": "UXShCJ9Kffj1"
   },
   "source": [
    "### 2.2 Nombres de variables"
   ]
  },
  {
   "cell_type": "markdown",
   "metadata": {
    "id": "m6o4Z1qKffj1"
   },
   "source": [
    "Hay que tener en cuenta que los **nombres de variables** `mensaje` y `x` utilizados arriba no son parte de Python. En principio, podrías usar cualquier nombre que te guste. Incluso si cambias la variable `mensaje` por algo como `gato` o `goku`, el ejemplo seguiría funcionando:"
   ]
  },
  {
   "cell_type": "code",
   "execution_count": null,
   "metadata": {
    "id": "bWYWrb9vffj1",
    "outputId": "630096a9-bb33-4833-b9e9-3ee8982547f7"
   },
   "outputs": [
    {
     "name": "stdout",
     "output_type": "stream",
     "text": [
      "15\n"
     ]
    }
   ],
   "source": [
    "goku = 12\n",
    "print(goku + 3)"
   ]
  },
  {
   "cell_type": "markdown",
   "metadata": {
    "id": "Gbl3-Uo3ffj1"
   },
   "source": [
    "Sin embargo, los nombres de variables solo son **válidos** si cumplen con ciertas reglas. De lo contrario, obtendrás un error de Python. Aquí hay algunas reglas para nombrar variables en Python:\n",
    "\n",
    "- Los nombres de las variables deben comenzar con una letra (a - z, A - B) o un guión bajo (_).\n",
    "- El resto del nombre de la variable puede consistir en letras, números y guiones bajos.\n",
    "\n",
    "Asimismo, si bien puedes usar cualquier nombre mientras sean válidos, hay ciertos **convenciones de nombramiento** que es mejor seguir ([PEP8 Style Guide for Python Code](https://www.python.org/dev/peps/pep-0008/)). Por el momento, es suficiente que recuerdes seguir lo siguiente:\n",
    "\n",
    "- utiliza nombres de variables claros, significativos y descriptivos para que tu código siga siendo comprensible\n",
    "- emplea el estilo `minusculas_con_guiones_bajos`, con caracteres en minúscula y guiones bajos para separar palabras\n",
    "- no utilices nombres reservados, como `print` o `sum` (estos se volverán de otro color en los Notebooks). [Aquí](https://www.w3schools.com/python/python_ref_keywords.asp) hay una lista de palabras reservadas en Python.\n",
    "\n",
    "Por ejemplo, el siguiente nombre de variable es válido, mucho más descriptivo que `x` y sigue las convenciones de nomenclatura:"
   ]
  },
  {
   "cell_type": "code",
   "execution_count": null,
   "metadata": {
    "id": "h_pDVb0Qffj1",
    "outputId": "64505b7a-11c6-46e8-e808-e7b9c57ac517"
   },
   "outputs": [
    {
     "name": "stdout",
     "output_type": "stream",
     "text": [
      "604800\n"
     ]
    }
   ],
   "source": [
    "segundos_semana = 604800\n",
    "print(segundos_semana)"
   ]
  },
  {
   "cell_type": "markdown",
   "metadata": {
    "id": "22HrYSa5ffj1"
   },
   "source": [
    "### 2.3. Input de usuario"
   ]
  },
  {
   "cell_type": "markdown",
   "metadata": {
    "id": "hBtkin6lffj2"
   },
   "source": [
    "Hasta ahora, hemos definido nosotros mismos los valores almacenados en las variables. Sin embargo, también podemos solicitar la entrada de un usuario. Utilizaremos otra función integrada: input(). Esta toma la entrada del usuario y la devuelve como una cadena. Pruébalo a continuación:"
   ]
  },
  {
   "cell_type": "code",
   "execution_count": null,
   "metadata": {
    "id": "pY_4cB_Nffj2",
    "outputId": "e4e95453-1a77-419c-de92-5e74c4e94bed"
   },
   "outputs": [
    {
     "name": "stdout",
     "output_type": "stream",
     "text": [
      "Carlos\n"
     ]
    }
   ],
   "source": [
    "nombre = input(\"Por favor ingresa tu nombre: \")\n",
    "print(nombre)"
   ]
  },
  {
   "cell_type": "markdown",
   "metadata": {
    "id": "RysyYJcOa7Zx"
   },
   "source": [
    "## Ejercicios"
   ]
  },
  {
   "cell_type": "markdown",
   "metadata": {
    "id": "4w_ABP1fa-oF"
   },
   "source": [
    "### Ejercicio 1\n",
    "\n",
    "Escribe un programa en Python que calcule el número de días en tres décadas. Hazlo en una sola línea de código y asigna el resultado a una variable con un nombre claro. Imprime el resultado."
   ]
  },
  {
   "cell_type": "code",
   "execution_count": null,
   "metadata": {
    "id": "LsOF8LnCffj2"
   },
   "outputs": [],
   "source": [
    "# Tu código va aquí\n",
    "\n"
   ]
  },
  {
   "cell_type": "markdown",
   "metadata": {
    "id": "H0mLrrvnbW_G"
   },
   "source": [
    "### Ejercicio 2\n",
    "\n",
    "Reescribe el código anterior asignando cada uno de los valores numéricos a una variable con un nombre claro. Luego, utiliza estas variables para calcular el número de días en tres décadas."
   ]
  },
  {
   "cell_type": "code",
   "execution_count": null,
   "metadata": {
    "id": "SeBBSzV2bVvX"
   },
   "outputs": [],
   "source": [
    "#Tu código va aquí\n",
    "\n"
   ]
  },
  {
   "cell_type": "markdown",
   "metadata": {
    "id": "oAt-SiEpbpVa"
   },
   "source": [
    "### Ejercicio 3\n"
   ]
  },
  {
   "cell_type": "markdown",
   "metadata": {
    "id": "HQIosCxtcBj4"
   },
   "source": [
    "Ejecuta el siguiente bloque de código y observa qué sucede. ¿Puedes corregir los nombres de variables inválidos? Al final, no deberías obtener ningún error."
   ]
  },
  {
   "cell_type": "code",
   "execution_count": null,
   "metadata": {
    "id": "15gO8fFMboLX"
   },
   "outputs": [],
   "source": [
    "manzanas = 2\n",
    "_manzanas = 4\n",
    "3manzanas = 3\n",
    "manzanas% = 2\n",
    "manzanas123 = 7\n",
    "cinco_manzanas = 5\n",
    "SieteManzanas = 6\n",
    "siete.manzanas = 7"
   ]
  },
  {
   "cell_type": "markdown",
   "metadata": {
    "id": "D65KaTRscXVw"
   },
   "source": [
    "### Ejercicio 4"
   ]
  },
  {
   "cell_type": "markdown",
   "metadata": {
    "id": "o3QiVzXeesgw"
   },
   "source": [
    "Puedes escribir un código que intercambie los valores de 2 variables ? Pista: Crea una variable extra"
   ]
  },
  {
   "cell_type": "code",
   "execution_count": null,
   "metadata": {
    "id": "jUZBDitZcdIu"
   },
   "outputs": [],
   "source": [
    "# Tu código aquí\n",
    "primer_numero = 3\n",
    "segundo_numero = 8\n"
   ]
  },
  {
   "cell_type": "markdown",
   "metadata": {
    "id": "ZsxYqYCfgWlk"
   },
   "source": [
    "### Ejercicio 5\n",
    "\n",
    "Escribe un programa para solicitar a dos personas que escriban su nombre usando la función `input()`. Guarda esos valores en las variables `nombre_1` y `nombre_2`. Cuando imprimas diles \"Hola\" a ambos nombres.\n",
    "\n",
    "Nota: Para poner un texto junto a una variable en python se puede hacer de la siguiente manera\n",
    "```\n",
    "nombre = \"Javier\"\n",
    "print(\"Hola\",nombre)\n",
    "> Hola Javier\n",
    "\n",
    "```"
   ]
  },
  {
   "cell_type": "code",
   "execution_count": null,
   "metadata": {
    "id": "kkVTWaLlgwyO"
   },
   "outputs": [],
   "source": [
    "# Tu código aquí\n"
   ]
  },
  {
   "cell_type": "markdown",
   "metadata": {
    "id": "FdyNT0J4hFyV"
   },
   "source": [
    "### Ejercicio 6\n",
    "\n",
    "El siguiente pedazo de código **NO VA A FUNCIONAR**. Como podras ver, va a mostrar un mensaje de error. Puedes saber como podríamos arreglarlo?\n",
    "\n",
    "Pista: Dale una mirada al uso de las comillas (\")\n"
   ]
  },
  {
   "cell_type": "code",
   "execution_count": null,
   "metadata": {
    "id": "p_-oBiS9hijU"
   },
   "outputs": [],
   "source": [
    "texto = \"Estamos aprendiendo \"python\" de una manera diferente\""
   ]
  },
  {
   "cell_type": "markdown",
   "metadata": {
    "id": "igJRKjnMelMp"
   },
   "source": [
    "### Mas ejercicios"
   ]
  },
  {
   "cell_type": "markdown",
   "metadata": {
    "id": "I3XgwWoAdfzq"
   },
   "source": [
    "\n",
    "*   Concatenación de strings\n",
    "*   Combinar print de text fijo con variables\n",
    "*  Operaciones aritmeticas (multiplicacion/suma/resta)\n",
    "*  Conversion entre tipos de variables (casting)\n",
    "\n"
   ]
  }
 ],
 "metadata": {
  "colab": {
   "provenance": []
  },
  "kernelspec": {
   "display_name": "DL-env",
   "language": "python",
   "name": "python3"
  },
  "language_info": {
   "codemirror_mode": {
    "name": "ipython",
    "version": 3
   },
   "file_extension": ".py",
   "mimetype": "text/x-python",
   "name": "python",
   "nbconvert_exporter": "python",
   "pygments_lexer": "ipython3",
   "version": "3.9.12"
  }
 },
 "nbformat": 4,
 "nbformat_minor": 0
}