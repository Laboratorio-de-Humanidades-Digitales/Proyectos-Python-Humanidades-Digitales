{
  "nbformat": 4,
  "nbformat_minor": 0,
  "metadata": {
    "colab": {
      "provenance": []
    },
    "kernelspec": {
      "name": "python3",
      "display_name": "Python 3"
    },
    "language_info": {
      "name": "python"
    }
  },
  "cells": [
    {
      "cell_type": "markdown",
      "source": [
        "# Día 4 - Trabajando con operadores lógicos y expresiones condicionales\n",
        "\n",
        "Hasta ahora, hemos aprendido cómo usar Python como una calculadora básica y cómo almacenar información en variables. Ahora estableceremos los primeros pasos hacia un programa útil real. Gran parte de la programación tiene que ver con ejecutar código si se cumple una condición particular. Esto permite que un programa actúe según sus entradas. Por ejemplo: una aplicación en tu teléfono podría dar una advertencia si el nivel de batería es inferior al 5%. Podemos hacer estas verificaciones usando *expresiones booleanas*. Estas son el elemento principal en probablemente una de las herramientas más utilizadas en Python: las *instrucciones if*.\n",
        "\n",
        "\n",
        "#### Al final de este capítulo, serás capaz de:\n",
        "* Trabajar y entender *expresiones booleanas*\n",
        "* Trabajar y entender *if statements*\n",
        "* Entender como manejar *indentación*\n",
        "* Entender qué es *anidado*"
      ],
      "metadata": {
        "id": "bRnq_axzHclx"
      }
    },
    {
      "cell_type": "markdown",
      "source": [
        "## 1. Expresiones booleanas"
      ],
      "metadata": {
        "id": "et-JDuXlITsi"
      }
    },
    {
      "cell_type": "markdown",
      "source": [
        "## 1. Expresiones booleanas\n",
        "\n",
        "Una **expresión booleana** es una expresión que resulta en una variable `bool` en Python. Los valores posibles son **`True`** o **`False`**. Las expresiones booleanas son los bloques fundamentales de la programación. Cualquier expresión que resulte en `True` o `False` puede considerarse una expresión booleana.\n"
      ],
      "metadata": {
        "id": "toeVQ7eaEwgf"
      }
    },
    {
      "cell_type": "code",
      "source": [
        "print(type(False))\n",
        "print(type(True))"
      ],
      "metadata": {
        "colab": {
          "base_uri": "https://localhost:8080/"
        },
        "id": "ijbCQvs7Ii8i",
        "outputId": "14b25281-e8f6-4546-d86d-979262eb6863"
      },
      "execution_count": null,
      "outputs": [
        {
          "output_type": "stream",
          "name": "stdout",
          "text": [
            "<class 'bool'>\n",
            "<class 'bool'>\n"
          ]
        }
      ]
    },
    {
      "cell_type": "markdown",
      "source": [
        "### 1.1 Operadores comparativos\n",
        "\n",
        "Aqui hay una lista de  **[operadores comparativos](https://docs.python.org/3/library/stdtypes.html#comparisons)** usados en expresiones booleanas.\n",
        "\n",
        "| Operador | Significado | `True` | `False` |\n",
        "|-----------|--------|--------|--------|\n",
        "| `==` |\tigual a\t | `2 == 2` | `2 == 3` |\n",
        "| `!=` |\tdistinto a\t| `3 != 2` | `2 != 2` |\n",
        "| `<` | menor que | `2 < 13`  | `2 < 2` |\n",
        "| `<=` |\tmenor o igual que \t|  `2 <= 2` | `3 <= 2`  |\n",
        "| `>` |\tmayor que \t | `13 > 2`  | `2 > 13`  |\n",
        "| `>=` |\tmayor o igual que   |  `3 >= 2`  | `2 >= 3`  |\n",
        "\n",
        "\n",
        "¡Recuerda que el signo = se reserva para asignación! Las expresiones booleanas observan variables pero nunca las cambian."
      ],
      "metadata": {
        "id": "SUHJ2RvhIr_B"
      }
    },
    {
      "cell_type": "code",
      "source": [
        "print(2 < 5)\n",
        "print(2 <= 5)\n",
        "print(3 > 7)\n",
        "print(3 >= 7)\n",
        "print(3 == 3)\n",
        "print(\"school\" == \"school\")\n",
        "print(\"Python\" != \"SPSS\")"
      ],
      "metadata": {
        "colab": {
          "base_uri": "https://localhost:8080/"
        },
        "id": "j_u2iACcIriJ",
        "outputId": "1a27957d-eda7-4ddb-b544-9da8f0e1b960"
      },
      "execution_count": null,
      "outputs": [
        {
          "output_type": "stream",
          "name": "stdout",
          "text": [
            "True\n",
            "True\n",
            "False\n",
            "False\n",
            "True\n",
            "True\n",
            "True\n"
          ]
        }
      ]
    },
    {
      "cell_type": "markdown",
      "source": [
        "En Python, decimos que una expresión lógica de este tipo se 'evalúa' cuando ejecutas el código. El resultado de dicha evaluación es un 'valor binario' o un llamado 'booleano' que solo puede tomar dos valores posibles: `True` o `False`. Puedes asignar dicho booleano a una variable:\n"
      ],
      "metadata": {
        "id": "s4JI0cXmG3YD"
      }
    },
    {
      "cell_type": "code",
      "source": [
        "greater = (5 ** 2) > 20   #25 > 20\n",
        "print(greater, type(greater))\n",
        "greater = 30 < (40 / 2)   #30 < 20\n",
        "print(greater, type(greater))"
      ],
      "metadata": {
        "colab": {
          "base_uri": "https://localhost:8080/"
        },
        "id": "N9w079GpJq_C",
        "outputId": "93325e22-1576-465f-92f1-5eb77d69cd71"
      },
      "execution_count": null,
      "outputs": [
        {
          "output_type": "stream",
          "name": "stdout",
          "text": [
            "True <class 'bool'>\n",
            "False <class 'bool'>\n"
          ]
        }
      ]
    },
    {
      "cell_type": "markdown",
      "source": [
        "Prueba los siguientes ejemplos:"
      ],
      "metadata": {
        "id": "ZdynJx66KCki"
      }
    },
    {
      "cell_type": "code",
      "source": [
        "print(5 == 5)"
      ],
      "metadata": {
        "id": "6Bkc9LZlKEhN"
      },
      "execution_count": null,
      "outputs": []
    },
    {
      "cell_type": "code",
      "source": [
        "print(5 == 4)"
      ],
      "metadata": {
        "id": "aJ9KOgqhKE4a"
      },
      "execution_count": null,
      "outputs": []
    },
    {
      "cell_type": "code",
      "source": [
        "print(10 < 20)"
      ],
      "metadata": {
        "id": "oEIAugCUKHzl"
      },
      "execution_count": null,
      "outputs": []
    },
    {
      "cell_type": "code",
      "source": [
        "print(10 <= 10)"
      ],
      "metadata": {
        "id": "dchwNk6QKIdO"
      },
      "execution_count": null,
      "outputs": []
    },
    {
      "cell_type": "code",
      "source": [
        "print(20 >= 21)"
      ],
      "metadata": {
        "id": "VYtgIDrlKKTS"
      },
      "execution_count": null,
      "outputs": []
    },
    {
      "cell_type": "code",
      "source": [
        "print(1 == '1')"
      ],
      "metadata": {
        "id": "ISzHgcA2KMRp"
      },
      "execution_count": null,
      "outputs": []
    },
    {
      "cell_type": "code",
      "source": [
        "print(1 != 2)"
      ],
      "metadata": {
        "id": "dpkh7iZrKRpA"
      },
      "execution_count": null,
      "outputs": []
    },
    {
      "cell_type": "code",
      "source": [
        "boolean_expression = 5 == 4\n",
        "print(boolean_expression)"
      ],
      "metadata": {
        "id": "L5a5lMQiKULt"
      },
      "execution_count": null,
      "outputs": []
    },
    {
      "cell_type": "markdown",
      "source": [
        "### 1.2 Operadores de pertenencia\n",
        "Python también tiene los llamados **[operadores de pertenencia](https://docs.python.org/3.5/reference/expressions.html#not-in)**:\n",
        "\n",
        "| Operador | Función | `True` | `False` |\n",
        "|-----------|--------|--------|--------|\n",
        "| `in` | el objeto de la izquierda es miembro del objeto de la derecha | `\"g\" in \"gato\"` | `\"f\" in \"gato\"` |\n",
        "| `not in` | el objeto de la izquierda NO es miembro del objeto de la derecha |  `\"f\" in \"gato\"` | `\"g\" in \"gato\"` |\n",
        "\n",
        "Ya hemos visto el operador **`in`** siendo usado para verificar si una cadena (de un solo carácter o varios) es una subcadena de otra:\n"
      ],
      "metadata": {
        "id": "nwBDZmQuKk0Y"
      }
    },
    {
      "cell_type": "code",
      "source": [
        "print(\"fun\" in \"function\")"
      ],
      "metadata": {
        "id": "DHZKrWiIKlkJ"
      },
      "execution_count": null,
      "outputs": []
    },
    {
      "cell_type": "markdown",
      "source": [
        "Solo podemos usar operadores de pertenencia con elementos *iterables* (es decir, objetos de Python que pueden dividirse en componentes más pequeños, como los caracteres de una cadena). Lo siguiente, por lo tanto, no funcionará, porque un entero no es iterable:\n"
      ],
      "metadata": {
        "id": "KEU8aU7WLDns"
      }
    },
    {
      "cell_type": "code",
      "source": [
        "print(1 in 10)"
      ],
      "metadata": {
        "id": "OFwFRrk2LWsO"
      },
      "execution_count": null,
      "outputs": []
    },
    {
      "cell_type": "markdown",
      "source": [
        "Sin embargo, podemos usar operadores de pertenencia con otros tipos de 'contenedores', como las *listas*. Discutiremos las listas con mucho más detalle más adelante, pero representan secuencias ordenadas de objetos como cadenas, enteros o una combinación de ellos. Podemos usar *in* y *not in* para verificar si un objeto es miembro de una lista:\n"
      ],
      "metadata": {
        "id": "4sS_qi03LcJn"
      }
    },
    {
      "cell_type": "code",
      "source": [
        "letters = ['a','b','c','d']\n",
        "numbers = [1,2,3,4,5]\n",
        "mixed = [1,2,3,'a','b','c']"
      ],
      "metadata": {
        "id": "mR6Yfs5QLddi"
      },
      "execution_count": null,
      "outputs": []
    },
    {
      "cell_type": "code",
      "source": [
        "print('a' in letters)"
      ],
      "metadata": {
        "id": "60nZILlhLjtX"
      },
      "execution_count": null,
      "outputs": []
    },
    {
      "cell_type": "code",
      "source": [
        "print('g' not in letters)"
      ],
      "metadata": {
        "id": "gmA8SASXLlip"
      },
      "execution_count": null,
      "outputs": []
    },
    {
      "cell_type": "code",
      "source": [
        "print(1 in numbers)"
      ],
      "metadata": {
        "id": "-DqzuXtfLwYd"
      },
      "execution_count": null,
      "outputs": []
    },
    {
      "cell_type": "code",
      "source": [
        "print(3 not in mixed)"
      ],
      "metadata": {
        "id": "enGOQ-lxLsi1"
      },
      "execution_count": null,
      "outputs": []
    },
    {
      "cell_type": "code",
      "source": [
        "print('a' not in 'hello world')"
      ],
      "metadata": {
        "id": "0vKE8IoeLnMs"
      },
      "execution_count": null,
      "outputs": []
    },
    {
      "cell_type": "markdown",
      "source": [
        "#### Ejercicio:\n",
        "Escriba un código donde el usuario pueda ingresar texto y se muestre si existen caracteres no alfanumericos ('=', '?', '#', '$', '%', '&', '!', '@') en el texto que ingreso. Pista: Utiliza una lista y verifica si los elementos de la lista se encuentran en el texto ingresado"
      ],
      "metadata": {
        "id": "ThU8vHOpbJ9V"
      }
    },
    {
      "cell_type": "code",
      "source": [
        "#Tu código aquí"
      ],
      "metadata": {
        "id": "kyfNNK1rbOCB"
      },
      "execution_count": null,
      "outputs": []
    },
    {
      "cell_type": "markdown",
      "source": [
        "### 1.3 And, or y not\n",
        "\n",
        "Finalmente, las operaciones booleanas a menudo se realizan utilizando los [**operadores booleanos `and`, `or` y `not`**](https://docs.python.org/3.5/library/stdtypes.html#boolean-operations-and-or-not). Dadas dos expresiones booleanas, **bool1** y **bool2**, así es como funcionan:\n",
        "\n",
        "| Operación | Función | `True` | `False` |\n",
        "|-----------|--------|--------|--------|\n",
        "| **bool1** `and` **bool2** | `True` si tanto **bool1** como **bool2** son `True`, de lo contrario `False` | (`5 == 5 and 3 < 5`) | (`5 == 5 and 3 > 5`) |\n",
        "| **bool1** `or` **bool2** | `True` cuando al menos una de las expresiones booleanas es `True`, de lo contrario `False` |  (`5 == 5 and 3 > 5`) | (`5 != 5 and 3 > 5`) |\n",
        "| `not` **bool1** | `True` si **bool1** es `False`, de lo contrario `False` | (`not 5 != 5`) | (`not 5 == 5`) |\n"
      ],
      "metadata": {
        "id": "vVFze1nZ_rM8"
      }
    },
    {
      "cell_type": "code",
      "source": [
        "letters = ['a','b','c','d']\n",
        "numbers = [1,2,3,4,5]"
      ],
      "metadata": {
        "id": "dPD0hHznMuO_"
      },
      "execution_count": null,
      "outputs": []
    },
    {
      "cell_type": "markdown",
      "source": [
        "Aquí hay unos ejemplos con **`and`**:"
      ],
      "metadata": {
        "id": "NH-p43-bNc6i"
      }
    },
    {
      "cell_type": "code",
      "source": [
        "print('a' in letters and 2 in numbers)"
      ],
      "metadata": {
        "id": "yAJYZ90OM8SB"
      },
      "execution_count": null,
      "outputs": []
    },
    {
      "cell_type": "code",
      "source": [
        "print(\"z\" in letters and 3 in numbers)"
      ],
      "metadata": {
        "id": "I0VXM5XBM88-"
      },
      "execution_count": null,
      "outputs": []
    },
    {
      "cell_type": "code",
      "source": [
        "print(\"f\" in letters and 0 in numbers)"
      ],
      "metadata": {
        "id": "HcmUztxGNDpR"
      },
      "execution_count": null,
      "outputs": []
    },
    {
      "cell_type": "markdown",
      "source": [
        "Aquí hay unos ejemplos con **`or`**:"
      ],
      "metadata": {
        "id": "hB1vjZjFNi3p"
      }
    },
    {
      "cell_type": "code",
      "source": [
        "print('f' in letters or 2 in numbers)"
      ],
      "metadata": {
        "id": "u8RHv0ZiNP9T"
      },
      "execution_count": null,
      "outputs": []
    },
    {
      "cell_type": "code",
      "source": [
        "print('a' in letters or 2 in numbers)"
      ],
      "metadata": {
        "id": "COP_SlHhNSi8"
      },
      "execution_count": null,
      "outputs": []
    },
    {
      "cell_type": "code",
      "source": [
        "print('f' in letters or 10 in numbers)"
      ],
      "metadata": {
        "id": "v-4aQeMCNpRT"
      },
      "execution_count": null,
      "outputs": []
    },
    {
      "cell_type": "markdown",
      "source": [
        "Aquí hay unos ejemplos con **`not`**:"
      ],
      "metadata": {
        "id": "ceGfgcVnNtpN"
      }
    },
    {
      "cell_type": "code",
      "source": [
        "a_string = \"hello\"\n",
        "letters = ['a','b','c','d']\n",
        "numbers = [1,2,3,4,5]"
      ],
      "metadata": {
        "id": "VLzdFOrMNx9B"
      },
      "execution_count": null,
      "outputs": []
    },
    {
      "cell_type": "code",
      "source": [
        "print(not a_string.endswith(\"o\"))\n",
        "print(not a_string.startswith(\"o\"))"
      ],
      "metadata": {
        "id": "osf2ZiCjNzid"
      },
      "execution_count": null,
      "outputs": []
    },
    {
      "cell_type": "code",
      "source": [
        "print(not 'x' in letters)"
      ],
      "metadata": {
        "id": "GpP-MC26N5Me"
      },
      "execution_count": null,
      "outputs": []
    },
    {
      "cell_type": "code",
      "source": [
        "print(not (4 == 4 and \"4\" == 4))"
      ],
      "metadata": {
        "id": "vkhxs_PLOLOk"
      },
      "execution_count": null,
      "outputs": []
    },
    {
      "cell_type": "markdown",
      "source": [
        "### Ejercicio:\n",
        "A continuación se presentan algunas características del aimara, arme la expresión booleana necesaria para que al juntarse todas las condiciones descritas, se imprima **`True`** indicando que se trata del aimara."
      ],
      "metadata": {
        "id": "iTBv3QwJdXUy"
      }
    },
    {
      "cell_type": "code",
      "source": [
        "#Características del aimara\n",
        "Aglutinante = True    #Las palabras se forman uniendo monemas independientes\n",
        "Verbo_ser = False     #No existe un verbo equivalente al verbo ser del español\n",
        "Direccionales = True  #Uso de direccionales para indicar si la acción tiene movimiento y su dirección.\n",
        "Evidencialidad = True #Requiere evidencialidad que obliga a marcar en una oración declarativa si el hablante conoce el hecho por conocimiento directo personal o conocimiento indirecto\n",
        "\n",
        "resultado = #Completa\n",
        "print(resultado)"
      ],
      "metadata": {
        "id": "ylo1JUX8d8C4"
      },
      "execution_count": null,
      "outputs": []
    },
    {
      "cell_type": "markdown",
      "source": [
        "## 2. Condicionales: instrucciones `if`\n",
        "Puede que te preguntes por qué dedicamos bastante tiempo explicando las expresiones booleanas. Una de las razones es que son el elemento principal en probablemente una de las herramientas más utilizadas en Python: las **instrucciones `if`**. La siguiente imagen explica qué sucede en una instrucción `if` en Python."
      ],
      "metadata": {
        "id": "ppXowgDHOezn"
      }
    },
    {
      "cell_type": "markdown",
      "source": [
        "<p align=\"center\">\n",
        "  <img src=\"https://raw.githubusercontent.com/cltl/python-for-text-analysis/master/Chapters/images/if_else_statement.jpg\" alt=\"if_else\">\n",
        "</p>\n"
      ],
      "metadata": {
        "id": "EGGsaU7BOqlu"
      }
    },
    {
      "cell_type": "markdown",
      "source": [
        "Veamos un ejemplo (modifica el valor de *number* para entender qué está sucediendo aquí):\n"
      ],
      "metadata": {
        "id": "00wbUxdaPmqs"
      }
    },
    {
      "cell_type": "code",
      "source": [
        "number = 2 # Prueba cambiar el valor a 6\n",
        "if number <= 5:\n",
        "    print(number)"
      ],
      "metadata": {
        "id": "nPT0TrQYO_aD"
      },
      "execution_count": null,
      "outputs": []
    },
    {
      "cell_type": "code",
      "source": [
        "number = 5\n",
        "if number == 5:\n",
        "    print(\"el número es igual a 5\")\n",
        "if number > 4:\n",
        "    print(\"el número es mayor que 4\")\n",
        "if number >= 5:\n",
        "    print(\"el número es mayor o igual a 5\")\n",
        "if number < 6:\n",
        "    print(\"el número es menor que 6\")\n",
        "if number <= 5:\n",
        "    print(\"el número es menor o igual a 5\")\n",
        "if number != 6 :\n",
        "    print(\"el número no es igual a 6\")"
      ],
      "metadata": {
        "id": "0GNpqa68Prhq"
      },
      "execution_count": null,
      "outputs": []
    },
    {
      "cell_type": "markdown",
      "source": [
        "### 2.1 Decisiones de dos escenarios\n",
        "\n",
        "Pero, ¿qué pasa si queremos tener opciones para dos escenarios diferentes? Podríamos simplemente usar un montón de instrucciones `if`. Sin embargo, Python tiene una forma más eficiente. Además del `if`, también tenemos la instrucción **`else`** para decisiones de dos vías (modifica el valor de `number` para entender qué está sucediendo aquí):\n"
      ],
      "metadata": {
        "id": "WokxK3MiQup-"
      }
    },
    {
      "cell_type": "code",
      "source": [
        "number = 10 # Prueba cambiar este valor a 2\n",
        "if number <= 5:\n",
        "    print(number)\n",
        "else:\n",
        "    print('number is higher than 5')"
      ],
      "metadata": {
        "id": "36Gnwfu9RCuR"
      },
      "execution_count": null,
      "outputs": []
    },
    {
      "cell_type": "markdown",
      "source": [
        "Ahora Python siempre ejecuta una de las dos piezas de código. Es como llegar a un cruce en el camino y elegir un camino a seguir.\n"
      ],
      "metadata": {
        "id": "6pwWhYf7RI9d"
      }
    },
    {
      "cell_type": "markdown",
      "source": [
        "### 2.2 Decisiones con múltiples opciones\n",
        "\n",
        "Pero, por supuesto, no tenemos que detenernos ahí. Si tienes múltiples opciones, puedes usar la instrucción **`elif`**. Para cada bloque `if`, puedes tener múltiples instrucciones `elif` y una instrucción `else`. Ahora conocemos la estructura completa del **constructo `if-elif-else`**:"
      ],
      "metadata": {
        "id": "oplDdc_kRYpd"
      }
    },
    {
      "cell_type": "markdown",
      "source": [
        "<p align=\"center\">\n",
        "  <img src=\"https://raw.githubusercontent.com/cltl/python-for-text-analysis/master/Chapters/images/if_elif_else.png\" alt=\"if_elif_else\">\n",
        "</p>\n"
      ],
      "metadata": {
        "id": "sJmnOiV9RhVK"
      }
    },
    {
      "cell_type": "code",
      "source": [
        "edad = 21 #Prueba cambiar la edad para probar todas las condiciones\n",
        "if edad < 12:\n",
        "    print(\"¡Todavía eres un niño!\")\n",
        "elif edad < 18:\n",
        "    print(\"¡Eres un adolescente!\")\n",
        "elif edad < 30:\n",
        "    print(\"¡Eres bastante joven!\")\n",
        "else:\n",
        "    print(\"¡Vaya, eres mayor!\")"
      ],
      "metadata": {
        "id": "wIlqCbNaRP_X"
      },
      "execution_count": null,
      "outputs": []
    },
    {
      "cell_type": "markdown",
      "source": [
        "Primero se evaluará la instrucción `if`. Solo si esa instrucción resulta ser `False`, el ordenador procederá a evaluar las instrucciones `elif`. Si las instrucciones `elif` resultan ser `False` a su vez, la máquina procederá a ejecutar las líneas de código asociadas con la instrucción `else`. ¡Puedes pensar en esta estructura de codificación como un árbol de decisiones! Recuerda: si en algún punto del árbol, tu máquina se encuentra con una expresión lógica que es `True`, ¡no se molestará en evaluar las opciones restantes! Ten en cuenta que las instrucciones se evalúan en el orden en que aparecen.\n"
      ],
      "metadata": {
        "id": "CLMKaMx6SrwX"
      }
    },
    {
      "cell_type": "code",
      "source": [
        "edad = 21 #Prueba cambiar la edad para probar todas las condiciones\n",
        "if edad < 12:\n",
        "    print(\"¡Todavía eres un niño!\")\n",
        "if edad < 18:\n",
        "    print(\"¡Eres un adolescente!\")\n",
        "if edad < 30:\n",
        "    print(\"¡Eres bastante joven!\")\n",
        "else:\n",
        "    print(\"¡Vaya, eres mayor!\")"
      ],
      "metadata": {
        "id": "UH69zcz-SrK0"
      },
      "execution_count": null,
      "outputs": []
    },
    {
      "cell_type": "markdown",
      "source": [
        "**Recuerda:**\n",
        "- `if-if`: tu código revisará todas las declaraciones `if`\n",
        "- `if-elif`: si una condición resulta en `True`, no verificará las otras condiciones\n",
        "\n",
        "A menos que *necesites* verificar todas las condiciones, usar `if-elif` generalmente es preferible porque es *más eficiente*.\n"
      ],
      "metadata": {
        "id": "wk6B5fDEUUci"
      }
    },
    {
      "cell_type": "markdown",
      "source": [
        "## 3. Indentación\n",
        "\n",
        "Echemos otro vistazo al ejemplo de arriba (hemos agregado números de línea):\n",
        "```python\n",
        "1. if number <= 5:\n",
        "2.     print(number)\n",
        "3. else:\n",
        "4.     print('number es mayor a 5')\n",
        "```\n",
        "Es posible que hayas notado que la línea 2 comienza con 4 espacios. ¡Esto es intencional! La indentación le indica a Python cuándo necesita ejecutar ese fragmento de código. Cuando la expresión booleana en la línea 1 es `True`, Python ejecuta el código desde la siguiente línea que comienza con cuatro espacios o con un tabulador (una sangría) a la derecha. Esto se llama **indentación**. Todas las declaraciones con la misma distancia hacia la derecha pertenecen al mismo 'bloque' de código.\n",
        "\n",
        "A diferencia de otros lenguajes, Python no utiliza llaves `{}` para marcar el inicio y el final de fragmentos de código, como las declaraciones `if`. El único delimitador es dos puntos (:) y la indentación del código. Tanto cuatro espacios como tabuladores pueden utilizarse para la indentación. Esta indentación debe usarse de manera consistente en todo tu código. Por ahora, no tienes que preocuparte por esto, ya que un tabulador se convierte automáticamente en cuatro espacios en los cuadernos (notebooks).\n",
        "\n",
        "Observa el código a continuación. Vemos que el bloque con sangría no se ejecuta, pero sí se ejecutan las líneas de código sin sangría. ¡Ahora cambia el valor de la variable `persona`! ¡La conversación debería ser un poco más larga ahora!\n"
      ],
      "metadata": {
        "id": "BkhkL8xMUoAl"
      }
    },
    {
      "cell_type": "code",
      "source": [
        "persona = \"John\"\n",
        "print(\"¡Hola!\")\n",
        "if persona == \"Alice\":\n",
        "    print(\"¿Cómo estás hoy?\")                      # esto está indentado\n",
        "    print(\"¿Quieres acompañarme a almorzar?\")      # esto está indentado\n",
        "elif persona == \"Lisa\":\n",
        "    print(\"¡Hablemos en otro momento!\")            # esto está indentado\n",
        "print(\"¡Adiós!\")\n"
      ],
      "metadata": {
        "id": "IK9_azoDVsEu"
      },
      "execution_count": null,
      "outputs": []
    },
    {
      "cell_type": "markdown",
      "source": [
        "### 3.1 Anidamiento\n",
        "\n",
        "Hemos visto que todas las declaraciones con la misma distancia hacia la derecha pertenecen al mismo bloque de código, es decir, las declaraciones dentro de un bloque se alinean verticalmente. El bloque termina en una línea con menos sangría o al final del archivo.\n",
        "Los bloques también pueden contener otros bloques; de esta manera, obtenemos una estructura de bloques anidados. El bloque que debe estar más profundamente **anidado** simplemente se sangra más a la derecha:\n",
        "\n",
        "<p align=\"center\">\n",
        "  <img src=\"https://raw.githubusercontent.com/cltl/python-for-text-analysis/master/Chapters/images/blocks.png\" alt=\"Blocks\">\n",
        "</p>\n",
        "\n",
        "\n",
        "Puede haber una situación en la que quieras verificar otra condición después de que una condición se resuelva a `True`. En tal situación, puedes usar la estructura `if` anidada. Como puedes ver si ejecutas el código a continuación, la segunda declaración `if` solo se ejecuta si la primera declaración `if` devuelve `True`. Intenta cambiar el valor de x para ver qué hace el código.\n"
      ],
      "metadata": {
        "id": "M4RyvqIDV44h"
      }
    },
    {
      "cell_type": "code",
      "source": [
        "x = float(input(\"Ingresa un número: \"))\n",
        "if x >= 0:\n",
        "    if x == 0:\n",
        "        print(\"Cero\")\n",
        "    else:\n",
        "        print(\"Número positivo\")\n",
        "else:\n",
        "    print(\"Número negativo\")\n"
      ],
      "metadata": {
        "id": "F-BOVv1FV_mN"
      },
      "execution_count": null,
      "outputs": []
    },
    {
      "cell_type": "markdown",
      "source": [
        "## Ejercicios"
      ],
      "metadata": {
        "id": "0aS7NJv3YUZW"
      }
    },
    {
      "cell_type": "markdown",
      "source": [
        "### Ejercicio 1:\n",
        "Escribe un pequeño programa que defina una variable `weight`. Si el peso es > 50 libras, imprime \"Hay un cargo de $25 por equipaje tan pesado.\" Si no lo es, imprime: \"Gracias por tu compra.\" Si el peso es exactamente 50, imprime: \"¡Uf! ¡El peso es justo!\". ¡Cambia el valor de weight varias veces para comprobar si tu código funciona! ¡Haz uso de los operadores lógicos y la estructura if-elif-else!\n"
      ],
      "metadata": {
        "id": "drYJ5ThtYN9w"
      }
    },
    {
      "cell_type": "code",
      "source": [
        "#Tu código aqui"
      ],
      "metadata": {
        "id": "_OGjiFGJYZGY"
      },
      "execution_count": null,
      "outputs": []
    },
    {
      "cell_type": "markdown",
      "source": [
        "### Ejercicio 2:\n",
        "¿Qué está mal en el siguiente código? Corrige el error.\n",
        "\n",
        "\n",
        "\n",
        "\n",
        "\n",
        "\n"
      ],
      "metadata": {
        "id": "2eqFzy_AY8It"
      }
    },
    {
      "cell_type": "code",
      "source": [
        "my_string = \"hello\"\n",
        "if my_string == \"hello\":\n",
        "print(\"world\")"
      ],
      "metadata": {
        "id": "dIJZzPMGZHPe"
      },
      "execution_count": null,
      "outputs": []
    },
    {
      "cell_type": "markdown",
      "source": [
        "¿Y aquí?"
      ],
      "metadata": {
        "id": "bjyteoNMZcJE"
      }
    },
    {
      "cell_type": "code",
      "source": [
        "my_string = \"hello\"\n",
        "if my_string == \"hello\"\n",
        "    print(\"world\")"
      ],
      "metadata": {
        "id": "PrztrEPuZdl9"
      },
      "execution_count": null,
      "outputs": []
    },
    {
      "cell_type": "markdown",
      "source": [
        "### Ejercicio 4:\n",
        "¿Puedes reescribir el código a continuación sin anidar? Pista: utiliza la estructura if-elif-else."
      ],
      "metadata": {
        "id": "Af2K1hVFZlrt"
      }
    },
    {
      "cell_type": "code",
      "source": [
        "x = float(input(\"Ingresa un número: \"))\n",
        "if x >= 0:\n",
        "    if x == 0:\n",
        "        print(\"Cero\")\n",
        "    else:\n",
        "        print(\"Número positivo\")\n",
        "else:\n",
        "    print(\"Número negativo\")\n"
      ],
      "metadata": {
        "id": "rJgc_qtmZsKl"
      },
      "execution_count": null,
      "outputs": []
    },
    {
      "cell_type": "markdown",
      "source": [
        "## Ejercicio 5:\n"
      ],
      "metadata": {
        "id": "lfr2XCcnh0mp"
      }
    },
    {
      "cell_type": "markdown",
      "source": [
        "Escriba un código que analice en un texto si las palabras \"mochica\", \"wari\" o \"inca\" estan presentes y presentarle al usuario un mensaje clasificando la cultura discutida en el texto. Cuenta con los 3 textos incluidos debajo para hacer sus pruebas"
      ],
      "metadata": {
        "id": "UpfZNtN3kJQK"
      }
    },
    {
      "cell_type": "code",
      "source": [
        "texto1 = \"Los mochicas fueron una antigua civilización precolombina que floreció en la costa norte de Perú entre los años 100 y 800 d.C. Conocidos por su extraordinario desarrollo en la cerámica, la arquitectura y su habilidad en la metalurgia, los mochicas dejaron un legado cultural notable en la región.\"\n",
        "texto2 = \"La arquitectura wari se destacó por la construcción de grandes complejos urbanos y administrativos, con edificaciones monumentales y una planificación urbana avanzada. Además, su arte cerámico y textil mostraba una notable habilidad técnica y creativa.\"\n",
        "texto3 = \"La arquitectura incaica es famosa por sus monumentos impresionantes, como Machu Picchu, una ciudadela ubicada en lo alto de los Andes. A pesar de su caída, la cultura inca dejó un legado duradero en la región, con su arte, arquitectura y tradiciones que perduran en la cultura peruana y andina hasta el día de hoy.\"\n",
        "\n",
        "#Tu código aqui"
      ],
      "metadata": {
        "id": "9PJe3Rsah0JL"
      },
      "execution_count": null,
      "outputs": []
    },
    {
      "cell_type": "markdown",
      "source": [
        "### Ejercicio 6:\n",
        "Un amigo quiere tu consejo sobre cuántas naranjas debería comprar. Escribe un programa que le aconseje comprar 24 naranjas si el precio es menor a 1.50 EUR por kg, 12 naranjas si el precio está entre 1.50 EUR y 3 EUR, y solo 1 naranja si el precio es mayor a 3 EUR. Pero también dile que solo debe comprarlas si las naranjas están frescas; de lo contrario, no debe comprar ninguna. Utiliza el anidamiento y la estructura if-elif-else"
      ],
      "metadata": {
        "id": "tQlvl1O9Z2CA"
      }
    },
    {
      "cell_type": "code",
      "source": [
        "#Tu código aquí"
      ],
      "metadata": {
        "id": "5LNx7CZ6Z978"
      },
      "execution_count": null,
      "outputs": []
    }
  ]
}