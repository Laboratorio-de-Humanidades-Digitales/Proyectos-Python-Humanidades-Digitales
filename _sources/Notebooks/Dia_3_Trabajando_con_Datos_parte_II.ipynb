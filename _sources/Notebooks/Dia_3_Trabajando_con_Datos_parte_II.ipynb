{
 "cells": [
  {
   "cell_type": "markdown",
   "metadata": {},
   "source": [
    "# Dia 3 - Tipos de Datos Básicos (Enteros, Flotantes y Strings)\n",
    "\n",
    "En el capítulo anterior, hiciste tu primera incursión en la programación con Python. Ya hemos visto algunos tipos de datos básicos: cadenas de texto y valores numéricos. En este capítulo, profundizaremos en el concepto de tipos de datos y nos centraremos en los numéricos: enteros y flotantes.\n",
    "\n",
    "#### Al final de este capítulo, serás capaz de:\n",
    "* entender el concepto de *tipos de datos*\n",
    "* verificar y convertir el tipo de un objeto\n",
    "* comprender y trabajar con dos tipos numéricos: *enteros* y *flotantes*\n",
    "* definir *strings* y entender sus *representaciones internas*\n",
    "* entender a los *strings* como secuencias de caracteres\n",
    "* utilizar *operadores* para manipular *strings*\n",
    "* utilizar *métodos* o *comandos* para manipular *strings*\n",
    "\n",
    "#### Si quieres aprender más sobre estos temas, los siguientes enlaces pueden ser útiles:\n",
    "- Documentación: [Tipos Incorporados de Python](https://docs.python.org/3/library/stdtypes.html)\n",
    "- Documentation: [Comandos con Strings](https://docs.python.org/3/library/stdtypes.html#string-methods)\n",
    "- Video: [Variables y Tipos en Python](https://www.youtube.com/watch?v=OH86oLzVzzw)\n",
    "- Video: [Enteros, flotantes y matemáticas](https://www.youtube.com/watch?v=D48iCw3WWpI&t=66s)\n",
    "- Video: [Trabajando con Datos Numéricos](https://www.youtube.com/watch?v=khKv-8q7YmY)\n",
    "- Explicación: [Strings](https://www.tutorialspoint.com/python/python_strings.htm)\n",
    "- Video: [Strings](https://www.youtube.com/watch?v=L2IUSArpG98)\n",
    "- Video: [String Indexing and Slicing](https://www.youtube.com/watch?v=lMQRjpgJslI)\n"
   ]
  },
  {
   "cell_type": "markdown",
   "metadata": {},
   "source": [
    "## 1. Tipos de Datos Básicos en Python\n",
    "\n",
    "En el mundo de Python cada dato es tratado como un objeto único. Esto le da una flexibilidad increíble para manipular y utilizar datos de diferentes formas. En Python, nos encontramos con una variedad de **tipos de objetos básicos** que son los pilares de la programación:\n",
    "\n",
    "* **Cadenas (Strings)**: manejan texto, usadas para crear y manejar palabras o frases.\n",
    "* **Enteros (Integers)**: los números enteros, sin decimales, ideales para contar o realizar operaciones matemáticas básicas.\n",
    "* **Flotantes (Floats)**: manejan números con decimales para cálculos más detallados.\n",
    "* **Listas (Lists)**: son como trenes de datos, una secuencia ordenada donde puedes agregar, eliminar o modificar elementos.\n",
    "* **Booleanos (Booleans)**: representan los valores de `True` (Verdadero) o `False` (Falso), fundamentales en la toma de decisiones lógicas.\n",
    "* **Funciones**: son las herramientas para transformar, crear o manipular objetos, basadas en los datos que reciben.\n",
    "\n",
    "A lo largo del curso, exploraremos cada uno de estos tipos. Comenzaremos con una inmersión en el mundo de las **cadenas, enteros, flotantes y booleanos** y más adelante, desvelaremos los misterios de los tipos restantes. Para una guía más técnica, la documentación oficial de Python sobre estos tipos está disponible [aquí](https://docs.python.org/3/library/stdtypes.html). \n",
    "\n",
    "Ahora, démosle un vistazo a un ejemplo de cada tipo:"
   ]
  },
  {
   "cell_type": "code",
   "execution_count": 2,
   "metadata": {},
   "outputs": [],
   "source": [
    "a_string       = \"abecedario\"\n",
    "an_integer     = 4\n",
    "a_float        = 3.14\n",
    "a_list         = [1,2,3,1,2,3,'a','b','c']\n",
    "a_function     = print\n",
    "a_bool         = True"
   ]
  },
  {
   "cell_type": "markdown",
   "metadata": {},
   "source": [
    "### Inspección de tipos de datos: La función `type()`\n",
    "\n",
    "Podemos usar la función `type()` para inspeccionar el tipo de un objeto. Esta función nos devuelve el tipo de un objeto como una cadena de texto. Por ejemplo, si queremos saber el tipo de un objeto llamado `x`, podemos usar la función `type()` de la siguiente manera:\n",
    "\n",
    "```python\n",
    "    x = 2    \n",
    "    print(type(x)) # recuerda que usamos print() para ver el resultado\n",
    "    >>> <class 'int'>\n",
    "```\n",
    "\n",
    "Eso nos dice que `x` es un objeto de tipo `int` (entero)"
   ]
  },
  {
   "cell_type": "code",
   "execution_count": 3,
   "metadata": {},
   "outputs": [
    {
     "name": "stdout",
     "output_type": "stream",
     "text": [
      "abecedario\n",
      "<class 'str'>\n"
     ]
    }
   ],
   "source": [
    "print(a_string)\n",
    "print(type(a_string))"
   ]
  },
  {
   "cell_type": "markdown",
   "metadata": {},
   "source": [
    "¿Qué tipo de dato es \"abecedario\"?"
   ]
  },
  {
   "cell_type": "markdown",
   "metadata": {},
   "source": [
    "Vamos a practicar un poco\n",
    "\n",
    "#### Ejercicio 1.1\n",
    "\n",
    "En la celda de abajo imprime cada uno de los datos que creamos 2 celdas de código atrás, y además imprime el tipo de dato que es cada uno de ellos.\n",
    "\n",
    "Usa el # para comentar cada línea de código y explicar qué tipo de dato es cada uno."
   ]
  },
  {
   "cell_type": "code",
   "execution_count": 4,
   "metadata": {},
   "outputs": [],
   "source": [
    "# Tu código aquí"
   ]
  },
  {
   "cell_type": "markdown",
   "metadata": {},
   "source": [
    "### 1.1 ¿Qué puedes hacer con un objeto? Las posibilidades según su tipo\n",
    "\n",
    "En este punto es importante entender que cada tipo de objeto en Python ofrece ciertas **posibilidades** o acciones asociadas que se pueden realizar con ellos. Por ejemplo, cuando trabajamos con tipos numéricos (enteros, flotantes), el intérprete de Python sabe que se pueden realizar operaciones matemáticas con ese objeto. Sin embargo, estas operaciones no son aplicables a las cadenas de texto, porque no tiene sentido, por ejemplo, calcular la raíz cuadrada de la cadena \"¡Hola, mundo!\".\n",
    "\n",
    "Es similar a lo que sucede en la vida real con los vehículos y la comida. Todo lo que se clasifica como *vehículo* puede usarse para desplazarse y posiblemente transportar bienes. Pero no puedes comer un vehículo. Todo lo que es *comida* es comestible, pero resulta bastante difícil utilizar comida para el transporte (imagina intentar ir a casa en una zanahoria).\n",
    "\n",
    "Así que, dependiendo del tipo, Python interpreta los objetos de manera diferente y puedes hacer distintas cosas con ellos. Por ejemplo, Python lanzará un error de tipo **`TypeError`** si intentas dividir una cadena de texto por otra:"
   ]
  },
  {
   "cell_type": "code",
   "execution_count": null,
   "metadata": {},
   "outputs": [],
   "source": [
    "print(\"10\" - \"4\")"
   ]
  },
  {
   "cell_type": "markdown",
   "metadata": {},
   "source": [
    "### Nota sobre la lectura e interpretación de errores\n",
    "\n",
    "Aunque puede resultar algo molesto cuando tu código genera un error, trata de verlo como un **mensaje útil que te informa por qué algo no funciona**. Considera el mensaje de error anterior. Tiene los siguientes componentes:\n",
    "\n",
    "- Un nombre: TypeError\n",
    "- Un indicador de la línea en la que tu código tiene un problema: ---> 1\n",
    "- Un mensaje: tipo(s) de operando no soportado(s) para /: 'str' y 'str'\n",
    "\n",
    "¿Qué nos dice esto?\n",
    "\n",
    "* Algo está mal con el tipo del objeto y lo que estamos intentando hacer.\n",
    "* ¿Dónde está el error? Aquí es fácil - en la línea 1 (nuestro código solo tiene una línea, pero imagina lo útil que es esta información si estás tratando con 50 líneas de código...)\n",
    "* ¿Cuál es el problema? En la línea 1, estamos intentando hacer algo con cadenas de texto. El mensaje nos dice que '/' (es decir, el operador de división) es un 'operando no soportado' para objetos del tipo cadena. En términos más sencillos: Python no sabe qué hacer cuando combinamos cadenas de texto con el operador de división. La razón de esto es que las cadenas no se pueden usar en divisiones.\n",
    "\n",
    "Esto nos da suficiente información para averiguar qué está mal. Aquí, realmente no hay nada que podamos arreglar - simplemente aprendemos que no es posible dividir cadenas de texto. En otros casos, el mensaje de error también puede contener información sobre cómo arreglar algo en el código."
   ]
  },
  {
   "cell_type": "markdown",
   "metadata": {},
   "source": [
    "### El mismo símbolo puede hacer cosas diferentes dependiendo del tipo de objeto con el que se combine\n",
    "En ocasiones, los mismos símbolos pueden actuar como diferentes **operadores** dependiendo del tipo de datos con los que se utilizan. Compara los siguientes dos bloques de código:"
   ]
  },
  {
   "cell_type": "code",
   "execution_count": null,
   "metadata": {},
   "outputs": [],
   "source": [
    "a = 10 + 4\n",
    "print(a)"
   ]
  },
  {
   "cell_type": "code",
   "execution_count": null,
   "metadata": {},
   "outputs": [],
   "source": [
    "b = \"yo soy \" + \"tu padre\"\n",
    "print(b)"
   ]
  },
  {
   "cell_type": "markdown",
   "metadata": {},
   "source": [
    "Como podemos ver, el símbolo \"+\" significa \"adición\" si lo usamos con enteros y \"concatenación\" (juntar) si lo usamos con cadenas de texto. Si intentamos combinar ambos tipos, Python indicará que la operación que estás intentando realizar no tiene sentido:"
   ]
  },
  {
   "cell_type": "code",
   "execution_count": null,
   "metadata": {},
   "outputs": [],
   "source": [
    "c = 3 + \"tu padre\"\n",
    "print(c)"
   ]
  },
  {
   "cell_type": "markdown",
   "metadata": {},
   "source": [
    "### 1.2 Conversión de Tipos (por ejemplo, convertir enteros en cadenas de texto)\n",
    "\n",
    "A veces tiene sentido convertir un tipo de dato en otro. A esto se le llama **casting**. Por ejemplo, podemos imaginar un caso así:"
   ]
  },
  {
   "cell_type": "code",
   "execution_count": null,
   "metadata": {},
   "outputs": [],
   "source": [
    "x = 10\n",
    "y = \"1\"\n",
    "z = x + y\n",
    "print(z)"
   ]
  },
  {
   "cell_type": "markdown",
   "metadata": {},
   "source": [
    "Nos encontramos nuevamente con un `TypeError` que indica que no podemos combinar una cadena de texto y un entero. Afortunadamente, podemos convertir la cadena en un entero aplicando **`int()`** a la variable `x`."
   ]
  },
  {
   "cell_type": "code",
   "execution_count": null,
   "metadata": {},
   "outputs": [],
   "source": [
    "x = \"5\"\n",
    "y = 2\n",
    "z = int(x) + y\n",
    "\n",
    "print(z)\n",
    "\n",
    "print(type(z))"
   ]
  },
  {
   "cell_type": "markdown",
   "metadata": {},
   "source": [
    "De manera similar, podemos convertir un entero en una cadena de texto usando **`str()`**, tras lo cual se puede concatenar con otra cadena:"
   ]
  },
  {
   "cell_type": "code",
   "execution_count": null,
   "metadata": {},
   "outputs": [],
   "source": [
    "x = 2\n",
    "y = \" es mi número favorito!\"\n",
    "z = str(x) + y\n",
    "print(z)\n",
    "print(type(z))"
   ]
  },
  {
   "cell_type": "markdown",
   "metadata": {},
   "source": [
    "Hay muchas otros tipos de conversiones, pero no todas tienen sentido o si? Por ejemplo, que pasaría si quisieras convertir a entero la cadena \"Hola mundo\"?\n",
    "\n",
    "#### Ejercicio 1.2\n",
    "\n",
    "Crea una variable llamado mi_texto y asígnale el valor \"Hola mundo\". Luego convierte mi_texto a entero y observa qué sucede."
   ]
  },
  {
   "cell_type": "code",
   "execution_count": null,
   "metadata": {},
   "outputs": [],
   "source": [
    "# Tu código aquí"
   ]
  },
  {
   "cell_type": "markdown",
   "metadata": {},
   "source": [
    "Opcional: Si quisiera si o si sumar mi texto a un entero, ¿qué debería hacer?"
   ]
  },
  {
   "cell_type": "code",
   "execution_count": 2,
   "metadata": {},
   "outputs": [],
   "source": [
    "# Tu código aquí\n"
   ]
  },
  {
   "cell_type": "markdown",
   "metadata": {},
   "source": [
    "## 2. Números: Enteros y Flotantes\n",
    "\n",
    "A lo largo de este curso, discutiremos todos los tipos de datos. Pero por ahora, vamos a examinar más de cerca los valores numéricos que puedes utilizar en Python: los enteros y los flotantes.\n",
    "\n",
    "Hasta ahora, solo hemos asignado números como 2 o 46 a nuestras variables. Estos números enteros se llaman **enteros (integers)** en programación, porque no contienen dígitos 'después del punto'. Los números que sí tienen dígitos después del punto (por ejemplo, 62.27 o 11.20) se denominan 'números de punto flotante' en programación, o simplemente **flotantes (floats)**. Cabe destacar que Python utiliza puntos en los flotantes, mientras que algunos idiomas europeos utilizan una coma. Tanto los enteros como los flotantes pueden ser números positivos (por ejemplo, 30 o 41.36) así como números negativos (por ejemplo, -30 o -41.36). Puedes asignar flotantes a variables igual de fácilmente:"
   ]
  },
  {
   "cell_type": "code",
   "execution_count": null,
   "metadata": {},
   "outputs": [],
   "source": [
    "decimal = 3.14\n",
    "print(decimal)\n",
    "decimal_negativo = -3.14\n",
    "print(decimal_negativo)"
   ]
  },
  {
   "cell_type": "markdown",
   "metadata": {},
   "source": [
    "La diferencia entre enteros y flotantes es, por supuesto, importante para las divisiones, donde a menudo (automáticamente) terminas con flotantes. Esto se conoce como conversión de tipo implícita. En algunos casos, esto puede llevar a problemas, por ejemplo, si el resto de tu código espera enteros, pero de repente tiene que lidiar con flotantes (aunque no tienes que preocuparte por ello por ahora)."
   ]
  },
  {
   "cell_type": "code",
   "execution_count": null,
   "metadata": {},
   "outputs": [],
   "source": [
    "x = 5/2\n",
    "print(x)"
   ]
  },
  {
   "cell_type": "markdown",
   "metadata": {},
   "source": [
    "Probemos que sucede en los siguientes casos:\n",
    "\n",
    "```python\n",
    "    print(int(2.4))\n",
    "    print(int(2.7))\n",
    "    print(round(2.7))\n",
    "```"
   ]
  },
  {
   "cell_type": "markdown",
   "metadata": {},
   "source": [
    "### Ejercicio:\n",
    "¿El siguiente código te da el resultado que esperabas? ¿Cuál es el tipo de la variable `resultado`? ¿Qué necesitarías modificar si solo quisieras realizar un cálculo?"
   ]
  },
  {
   "cell_type": "code",
   "execution_count": null,
   "metadata": {},
   "outputs": [],
   "source": [
    "# Tu código aquí"
   ]
  },
  {
   "cell_type": "markdown",
   "metadata": {},
   "source": [
    "### 2.1 Operadores Matemáticos\n",
    "Hay varios [**operadores matemáticos**](https://docs.python.org/3/library/stdtypes.html) definidos tanto para enteros como para flotantes (se encuentran bajo 'Tipos Numéricos'), algunos de los cuales ya hemos visto anteriormente:\n",
    "\n",
    "| Operación | Resultado |\n",
    "|-----------|-----------|\n",
    "| `x + y`   | suma de x e y |\n",
    "| `x - y`   | diferencia de x e y |\n",
    "| `x * y`   | producto de x e y |\n",
    "| `x / y`   | división de x e y |\n",
    "| `x // y`  | división entera de x e y |\n",
    "| `x % y`   | resto de x / y |\n",
    "| `x ** y`  | x elevado a la potencia y |\n",
    "\n",
    "Sin duda recordarás de tus clases de matemáticas en la escuela secundaria que existe algo llamado **jerarquía**, lo que significa que la multiplicación, por ejemplo, siempre se ejecutará antes que la resta. En Python puedes establecer explícitamente el orden en el que se ejecutan las operaciones aritméticas, utilizando paréntesis. \n",
    "\n",
    "Para ello, compararemos los siguientes dos bloques de código:\n",
    "\n",
    "```python\n",
    "    numero_1 = 10 - 2 / 4\n",
    "    numero_2 = (10 - 2) / 4\n",
    "    numero_3 = 10 - (2 / 4)\n",
    "\n",
    "    print(numero_1)\n",
    "    print(numero_2)\n",
    "    print(numero_3)\n",
    "```"
   ]
  },
  {
   "cell_type": "code",
   "execution_count": null,
   "metadata": {},
   "outputs": [],
   "source": [
    "# Escribe el código aquí"
   ]
  },
  {
   "cell_type": "markdown",
   "metadata": {},
   "source": [
    "Utilizando los operadores que hemos aprendido anteriormente, podemos cambiar las variables en nuestro código tantas veces como queramos. Podemos asignar nuevos valores a las variables antiguas, justo como podemos poner cosas nuevas o adicionales en las cajas que ya teníamos. "
   ]
  },
  {
   "cell_type": "markdown",
   "metadata": {},
   "source": [
    "## Ejercicios"
   ]
  },
  {
   "cell_type": "markdown",
   "metadata": {},
   "source": [
    "### Ejercicio 1\n",
    "\n",
    "1. Que parte del siguiente código es redundante?"
   ]
  },
  {
   "cell_type": "code",
   "execution_count": null,
   "metadata": {},
   "outputs": [],
   "source": [
    "x = 3 + (2 * 2) + (9 - 2) / 3\n",
    "print(x)"
   ]
  },
  {
   "cell_type": "markdown",
   "metadata": {},
   "source": [
    "2. Imprime los tipos de datos de las siguientes variables:\n"
   ]
  },
  {
   "cell_type": "code",
   "execution_count": null,
   "metadata": {},
   "outputs": [],
   "source": [
    "var1 = 5\n",
    "var2 = 3.1416\n",
    "var3 = \"Hola mundo\""
   ]
  },
  {
   "cell_type": "markdown",
   "metadata": {},
   "source": [
    "### Ejercicio 2\n",
    "\n",
    "Las siguientes celdas de código contienen errores. Encuentra los errores y corrígelos para que el código funcione."
   ]
  },
  {
   "cell_type": "code",
   "execution_count": null,
   "metadata": {},
   "outputs": [],
   "source": [
    "x = 9\n",
    "y = \"3\"\n",
    "z = x / y\n",
    "print(z)"
   ]
  },
  {
   "cell_type": "code",
   "execution_count": null,
   "metadata": {},
   "outputs": [],
   "source": [
    "numero = 9\n",
    "numero = 1 + Numero\n",
    "print(numero)"
   ]
  },
  {
   "cell_type": "markdown",
   "metadata": {},
   "source": [
    "#### Ejercicio 2.\n",
    "\n",
    "Crea una variable para representar la cantidad de palabras en una oración y otra variable para representar la cantidad de caracteres en esa misma oración. Ambos valores deben ser ingresados por el usuario usando la función `input()` y el casting apropiado.\n",
    "\n",
    "1. Calcula el promedio de caracteres por palabra dividiendo la cantidad de caracteres entre la cantidad de palabras. \n",
    "\n",
    "2. Verifica que el resultado sea un número de punto flotante\n",
    "\n",
    "3. A continuación, convierte el promedio de caracteres a una cadena de texto y verifica que sea una cadena de texto. \n"
   ]
  },
  {
   "cell_type": "code",
   "execution_count": null,
   "metadata": {},
   "outputs": [],
   "source": [
    "# Tu código aquí"
   ]
  },
  {
   "cell_type": "markdown",
   "metadata": {},
   "source": [
    "#### Ejercicio 3\n",
    "\n",
    "En el campo de las Humanidades Digitales, es común trabajar en proyectos de digitalización de documentos históricos. Para evaluar el avance de un proyecto, es importante calcular el porcentaje de documentos ya digitalizados.\n",
    "\n",
    "En este ejercicio, vamos a crear un programa que solicite al usuario ingresar la cantidad total de documentos en el proyecto y la cantidad de documentos ya digitalizados. Luego, el programa calculará y mostrará el porcentaje de avance.\n",
    "\n",
    "1. Solicitar al usuario la cantidad total de documentos en el proyecto\n",
    "\n",
    "2. Solicitar al usuario la cantidad de documentos ya digitalizados\n",
    "\n",
    "3. Calcular el porcentaje de avance\n",
    "\n",
    "4. Mostrar el resultado al usuario con un mensaje que incluya el porcentaje de avance\n"
   ]
  },
  {
   "cell_type": "code",
   "execution_count": null,
   "metadata": {},
   "outputs": [],
   "source": [
    "# Tu código aquí"
   ]
  },
  {
   "cell_type": "markdown",
   "metadata": {},
   "source": [
    "#### Ejercicio Opcional\n",
    "\n",
    "En el campo de las Humanidades Digitales, es común trabajar en proyectos de digitalización de documentos históricos. Para evaluar el avance de un proyecto, es importante calcular el tiempo estimado para completar la digitalización.\n",
    "\n",
    "En este ejercicio, vamos a crear un programa que solicite al usuario ingresar la cantidad total de documentos en el proyecto y la cantidad de documentos ya digitalizados. Luego, el programa calculará y mostrará el tiempo estimado para completar la digitalización en días y semanas.\n",
    "\n",
    "1. Solicitar al usuario la cantidad total de documentos en el proyecto.\n",
    "2. Solicitar al usuario la cantidad de documentos ya digitalizados.\n",
    "3. Calcular la cantidad de documentos restantes para completar la digitalización.\n",
    "4. Calcular el tiempo estimado en días y semanas para completar la digitalización, asumiendo que se digitaliza un documento por día.\n",
    "5. Mostrar el resultado al usuario con un mensaje que incluya la cantidad de días y semanas estimadas para completar la digitalización.\n",
    "\n",
    "Recuerda utilizar la división entera (`//`) para calcular la cantidad de semanas y el resto (`%`) para calcular la cantidad de días adicionales.\n",
    "\n",
    "\n",
    "<details>\n",
    "<summary>Haz clic para ver la solución</summary>\n",
    "\n",
    "```python\n",
    "\n",
    "# Solicitar al usuario la cantidad total de documentos en el proyecto.\n",
    "total_documentos = int(input(\"Ingrese la cantidad total de documentos en el proyecto: \"))\n",
    "\n",
    "# Solicitar al usuario la cantidad de documentos ya digitalizados.\n",
    "documentos_digitalizados = int(input(\"Ingrese la cantidad de documentos ya digitalizados: \"))\n",
    "\n",
    "# Calcular la cantidad de documentos restantes para completar la digitalización.\n",
    "documentos_restantes = total_documentos - documentos_digitalizados\n",
    "\n",
    "# Calcular el tiempo estimado en días y semanas para completar la digitalización, asumiendo que se digitaliza un documento por día.\n",
    "dias = documentos_restantes\n",
    "semanas = dias // 7\n",
    "dias = dias % 7\n",
    "\n",
    "# Mostrar el resultado al usuario con un mensaje que incluya la cantidad de días y semanas estimadas para completar la digitalización.\n",
    "print(\"Faltan\", semanas, \"semanas y\", dias, \"días para completar la digitalización.\")\n",
    "\n",
    "\n",
    "```"
   ]
  },
  {
   "cell_type": "markdown",
   "metadata": {},
   "source": [
    "## 3. Definiendo y representando cadenas de texto\n",
    "\n",
    "Un **string** o cadena de texto es una secuencia de letras/caracteres que juntos forman un todo (por ejemplo, una palabra, una oración o un texto completo). En Python, una cadena es un tipo de objeto cuyo valor está encerrado entre comillas simples o dobles. Definamos algunas de ellas:"
   ]
  },
  {
   "cell_type": "code",
   "execution_count": null,
   "metadata": {},
   "outputs": [],
   "source": [
    "# Aquí hay algunos strings\n",
    "string_1 = \"Hasta la vista\"\n",
    "string_2 = \"baby\"\n",
    "string_3 = \"🤯🫣\"\n",
    "string_4 = \"123\"\n",
    "\n",
    "print(string_1)\n",
    "print(string_2)\n",
    "print(string_3)\n",
    "print(string_4)\n",
    "print(ord(string_4))"
   ]
  },
  {
   "cell_type": "markdown",
   "metadata": {},
   "source": [
    "No hay diferencia en declarar una cadena con comillas simples o dobles. Sin embargo, si tu cadena contiene un símbolo de comilla, puede llevar a errores si intentas encerrarla con las mismas comillas."
   ]
  },
  {
   "cell_type": "code",
   "execution_count": null,
   "metadata": {},
   "outputs": [],
   "source": [
    "# Ejecuta esta celda\n",
    "restaurante = 'McDonald's'"
   ]
  },
  {
   "cell_type": "markdown",
   "metadata": {},
   "source": [
    "En el ejemplo anterior, el error indica que hay algo mal con la letra *s*. Esto se debe a que la comilla simple cierra la cadena que comenzamos, y cualquier cosa después de eso es inesperado.\n",
    "Para resolver esto, podemos encerrar la cadena en comillas dobles, de la siguiente manera:"
   ]
  },
  {
   "cell_type": "code",
   "execution_count": null,
   "metadata": {},
   "outputs": [],
   "source": [
    "restaurante = \"McDonald's\"\n",
    "print(restaurante)"
   ]
  },
  {
   "cell_type": "markdown",
   "metadata": {},
   "source": [
    "O podemos usar un caracter especial llamado **caracter de escape**. Un caracter de escape es un caracter que indica que el caracter que le sigue tiene un significado diferente a lo usual. En este caso, el caracter de escape es la barra invertida `\\` y le indica a Python que la comilla simple que le sigue no debe cerrar la cadena, sino que debe ser tratada como un caracter normal."
   ]
  },
  {
   "cell_type": "code",
   "execution_count": 8,
   "metadata": {},
   "outputs": [],
   "source": [
    "restaurante_2 = 'McDonald\\'s'\n",
    "print(restaurante_2)"
   ]
  },
  {
   "cell_type": "markdown",
   "metadata": {},
   "source": [
    "### 3.1. Imprimiendo y concatenando cadenas de texto\n",
    "\n",
    "Frecuentemente te encontrarás concatenando e imprimiendo combinaciones de cadenas de texto. Considera los siguientes ejemplos:"
   ]
  },
  {
   "cell_type": "code",
   "execution_count": 2,
   "metadata": {},
   "outputs": [
    {
     "name": "stdout",
     "output_type": "stream",
     "text": [
      "Hola mundo !\n",
      "Hola mundo !\n"
     ]
    }
   ],
   "source": [
    "print(\"Hola\", \"mundo\", \"!\")\n",
    "print(\"Hola \" + \"mundo \" + \"!\")"
   ]
  },
  {
   "cell_type": "markdown",
   "metadata": {},
   "source": [
    "Notas alguna diferencia? Coméntalo con tus compañeros\n",
    "\n",
    "<details>\n",
    "<summary>Haz clic para ver la respuesta</summary>\n",
    "\n",
    "Aunque puedan parecer similares, aquí están ocurriendo dos cosas diferentes. Dicho de manera sencilla: el signo `+` en la expresión está realizando una concatenación, pero la coma no.\n",
    "\n",
    "**La función 'print()'**, que hemos visto muchas veces, imprimirá como cadenas de texto todo en una secuencia de expresiones separadas por comas en tu pantalla, y separará los resultados con espacios simples por defecto. Ten en cuenta que puedes mezclar tipos: cualquier cosa que no sea ya una cadena se convierte automáticamente a su representación en cadena."
   ]
  },
  {
   "cell_type": "code",
   "execution_count": null,
   "metadata": {},
   "outputs": [],
   "source": [
    "nro_estudiantes = 20\n",
    "print(\"En el salón tenemos\", nro_estudiantes, \"estudiantes.\")"
   ]
  },
  {
   "cell_type": "markdown",
   "metadata": {},
   "source": [
    "**Opcional:** Te interesa saber por qué print() imprime los resultados separados por espacios simples? Puedes averiguarlo en la documentación oficial de Python [aquí](https://docs.python.org/3/library/functions.html#print).\n",
    "\n",
    "O, si quieres una explicación más sencilla, los Notebooks nos permiten usar comandos especiales para consultar sobre que hace un comando de python. Por ejemplo, si quieres saber qué hace el comando `print()` puedes escribir `?print` y presionar enter. Esto te mostrará una ventana con la documentación del comando."
   ]
  },
  {
   "cell_type": "code",
   "execution_count": null,
   "metadata": {},
   "outputs": [],
   "source": [
    "?print"
   ]
  },
  {
   "cell_type": "markdown",
   "metadata": {},
   "source": [
    "Según la información brindada, que podemos saber de los argumentos de print? Qué significa el argumento `sep`? Qué significa el argumento `end`? Ejecuta el siguiente código para ver qué sucede cuando cambias los valores de estos argumentos.\n",
    "\n",
    "```python\n",
    "    print(\"Hola\", \"mundo\", sep=\" \", end=\"!\")\n",
    "    print(\"Hola\", \"mundo\", sep=\"*\", end=\"!\")\n",
    "```"
   ]
  },
  {
   "cell_type": "code",
   "execution_count": null,
   "metadata": {},
   "outputs": [],
   "source": [
    "# Tu código aquí"
   ]
  },
  {
   "cell_type": "markdown",
   "metadata": {},
   "source": [
    "### 3.2. Operadores y métodos para cadenas de texto\n",
    "\n",
    "Además de la concatenación, hay otros operadores que se pueden utilizar con cadenas de texto. Por ejemplo, podemos multiplicar una cadena de texto por un número entero para repetirla:"
   ]
  },
  {
   "cell_type": "code",
   "execution_count": null,
   "metadata": {},
   "outputs": [],
   "source": [
    "mi_texto = \"a\"\n",
    "print(mi_texto)\n",
    "print(mi_texto * 10)"
   ]
  },
  {
   "cell_type": "markdown",
   "metadata": {},
   "source": [
    "Son pocos los operadores que podemos usar con cadenas de texto, pero hay muchos **métodos** o comandos de python que podemos utilizar para manipularlas. Los métodos son funciones que se aplican a un objeto específico. En este caso, los métodos son funciones que se aplican a cadenas de texto. Para usar un método, escribimos el nombre del objeto, seguido de un punto, seguido del nombre del método, seguido de paréntesis. Por ejemplo, el método `upper()` convierte una cadena de texto a mayúsculas, y el método `lower()` convierte una cadena de texto a minúsculas:\n",
    "\n",
    "```python\n",
    "    print(\"hola mundo\".upper())\n",
    "    print(\"HOLA MUNDO\".lower())\n",
    "```"
   ]
  },
  {
   "cell_type": "markdown",
   "metadata": {},
   "source": [
    "¿Cómo podemos saber qué métodos están disponibles para un objeto?. Hay 2 maneras de hacerlo:\n",
    "\n",
    "1. Puedes consultar la documentación oficial de Python [aquí](https://docs.python.org/3/library/stdtypes.html#string-methods). Esta es la manera más completa de hacerlo, pero puede ser un poco abrumadora al principio.\n",
    "\n",
    "2. Puedes usar el comando `dir()` para ver todos los métodos disponibles para un objeto. Por ejemplo, si quieres saber qué métodos están disponibles para cadenas de texto, puedes escribir `dir(str)` y presionar enter. Esto te mostrará una lista de todos los métodos disponibles para cadenas de texto. Si quieres saber qué hace un método en particular, puedes escribir `?str.upper` y presionar enter. Esto te mostrará una ventana con la documentación del método."
   ]
  },
  {
   "cell_type": "code",
   "execution_count": null,
   "metadata": {},
   "outputs": [],
   "source": [
    "dir(str)"
   ]
  },
  {
   "cell_type": "markdown",
   "metadata": {},
   "source": [
    "Los nombres de métodos que empiezan y terminan con doble guión bajo `__` son métodos especiales que son internos a Python que no necesitas usar por ahora. Excepto por len, que es un método que veremos a lo largo del curso."
   ]
  },
  {
   "cell_type": "markdown",
   "metadata": {},
   "source": [
    "Podemos usar tanto ?str.upper como help(str.upper) para ver la documentación de un método. Podrías mencionar algunas diferencias? Compáralo con lo que observarías en ?print y help(print)"
   ]
  },
  {
   "cell_type": "code",
   "execution_count": null,
   "metadata": {},
   "outputs": [],
   "source": [
    "# Tu código aquí"
   ]
  },
  {
   "cell_type": "markdown",
   "metadata": {},
   "source": [
    "Aquí tienes resumido en una tabla los métodos que comúnmente se usan con cadenas de texto:\n",
    "\n",
    "| Método | Descripción |\n",
    "|-----------|-----------|\n",
    "| `str.upper()`   | convierte la cadena de texto a mayúsculas |\n",
    "| `str.lower()`   | convierte la cadena de texto a minúsculas |\n",
    "| `str.capitalize()`   | convierte la primera letra de la cadena de texto a mayúscula |\n",
    "| `str.title()`   | convierte la primera letra de cada palabra de la cadena de texto a mayúscula |\n",
    "| `str.strip()`   | elimina los espacios en blanco al principio y al final de la cadena de texto |\n",
    "| `str.replace(old, new)`   | reemplaza todas las ocurrencias de old por new en la cadena de texto |\n",
    "| `str.split()`   | divide la cadena de texto en una lista de cadenas de texto, usando los espacios en blanco como separadores |\n",
    "| `str.count(x)`   | cuenta la cantidad de ocurrencias de x en la cadena de texto |\n",
    "\n",
    "\n",
    "Juega un poco con estos métodos y observa qué sucede. Recuerda revisar la documentación de cada método para entender cómo usarlos\n",
    "\n",
    "<details>\n",
    "<summary>Haz clic para ver un ejemplo</summary>\n",
    "\n",
    "```python\n",
    "    mi_texto_minus = \"hola mundo\"\n",
    "    mi_texto_mayus = mi_texto_minus.upper()\n",
    "    print(mi_texto_mayus)\n",
    "    print(mi_texto_minus)\n",
    "```"
   ]
  },
  {
   "cell_type": "markdown",
   "metadata": {},
   "source": []
  },
  {
   "cell_type": "markdown",
   "metadata": {},
   "source": [
    "### Ejercicio 2\n",
    "\n",
    "Escribe un programa en Python que solicite al usuario su nombre y su edad. Luego, el programa debe generar una cadena de texto que diga \"Hola [nombre], tienes [edad] años\". A continuación, el programa debe contar la cantidad de caracteres en la cadena generada y mostrar el resultado al usuario.\n",
    "\n",
    "Para resolver este problema, puedes utilizar los siguientes pasos:\n",
    "\n",
    "1. Solicitar al usuario que ingrese su nombre y guardarlo en una variable.\n",
    "2. Solicitar al usuario que ingrese su edad y guardarla en otra variable.\n",
    "3. Concatenar las variables del nombre y la edad para generar la cadena de texto.\n",
    "4. Utilizar el método `len()` para contar la cantidad de caracteres en la cadena generada. Utiliza help o ? , para saber como usar len\n",
    "5. Mostrar el resultado al usuario con un mensaje que incluya la cantidad de caracteres.\n",
    "\n",
    "<details>\n",
    "<summary>Haz clic para ver como se usa len()</summary>\n",
    "\n",
    "```python\n",
    "    x = \"Hola\"\n",
    "    print(len(x))\n",
    "    >>> 4\n",
    "```\n",
    "\n"
   ]
  },
  {
   "cell_type": "code",
   "execution_count": null,
   "metadata": {},
   "outputs": [],
   "source": []
  },
  {
   "cell_type": "markdown",
   "metadata": {},
   "source": []
  },
  {
   "cell_type": "code",
   "execution_count": null,
   "metadata": {},
   "outputs": [],
   "source": []
  }
 ],
 "metadata": {
  "kernelspec": {
   "display_name": "DL-env",
   "language": "python",
   "name": "python3"
  },
  "language_info": {
   "codemirror_mode": {
    "name": "ipython",
    "version": 3
   },
   "file_extension": ".py",
   "mimetype": "text/x-python",
   "name": "python",
   "nbconvert_exporter": "python",
   "pygments_lexer": "ipython3",
   "version": "3.9.12"
  }
 },
 "nbformat": 4,
 "nbformat_minor": 2
}
